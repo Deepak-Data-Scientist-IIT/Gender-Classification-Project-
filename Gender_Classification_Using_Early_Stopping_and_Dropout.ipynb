{
  "nbformat": 4,
  "nbformat_minor": 0,
  "metadata": {
    "colab": {
      "name": "Gender Classification Using  Early Stopping and Dropout.ipynb",
      "provenance": [],
      "toc_visible": true,
      "authorship_tag": "ABX9TyN9nanlTR2GQuIiOy1kfBp3",
      "include_colab_link": true
    },
    "kernelspec": {
      "name": "python3",
      "display_name": "Python 3"
    },
    "accelerator": "GPU"
  },
  "cells": [
    {
      "cell_type": "markdown",
      "metadata": {
        "id": "view-in-github",
        "colab_type": "text"
      },
      "source": [
        "<a href=\"https://colab.research.google.com/github/Deepak-Data-Scientist-IIT/Gender-Classification-Project-/blob/master/Gender_Classification_Using_Early_Stopping_and_Dropout.ipynb\" target=\"_parent\"><img src=\"https://colab.research.google.com/assets/colab-badge.svg\" alt=\"Open In Colab\"/></a>"
      ]
    },
    {
      "cell_type": "markdown",
      "metadata": {
        "id": "_7u1-XuGRzqP",
        "colab_type": "text"
      },
      "source": [
        "# **Loading DataSet**"
      ]
    },
    {
      "cell_type": "code",
      "metadata": {
        "id": "Z1Fn3u7vR5Et",
        "colab_type": "code",
        "colab": {}
      },
      "source": [
        "# import necessary libraries and functions\n",
        "import numpy as np\n",
        "import pandas as pd\n",
        "import matplotlib.pyplot as plt\n",
        "%matplotlib inline\n",
        "\n",
        "# importing layers from keras\n",
        "from keras.layers import Dense, InputLayer\n",
        "from keras.models import Sequential\n",
        "# importing adam optimizer from keras optimizer module \n",
        "from keras.optimizers import Adam\n",
        "from skimage.transform import resize\n",
        "# Importing module for early stopping\n",
        "from keras.callbacks import EarlyStopping\n",
        "\n",
        "# train_test_split to create training and validation set\n",
        "from sklearn.model_selection import train_test_split\n",
        "# accuracy_score to calculate the accuracy of predictions\n",
        "from sklearn.metrics import accuracy_score"
      ],
      "execution_count": null,
      "outputs": []
    },
    {
      "cell_type": "code",
      "metadata": {
        "id": "FMaCix3ER9D6",
        "colab_type": "code",
        "colab": {
          "base_uri": "https://localhost:8080/",
          "height": 35
        },
        "outputId": "de2a4af9-f922-4aa0-ba86-a48301d85bf4"
      },
      "source": [
        "from google.colab import drive\n",
        "drive.mount('/content/drive')"
      ],
      "execution_count": null,
      "outputs": [
        {
          "output_type": "stream",
          "text": [
            "Drive already mounted at /content/drive; to attempt to forcibly remount, call drive.mount(\"/content/drive\", force_remount=True).\n"
          ],
          "name": "stdout"
        }
      ]
    },
    {
      "cell_type": "code",
      "metadata": {
        "id": "P3bFk_GFSJgg",
        "colab_type": "code",
        "colab": {}
      },
      "source": [
        "!unzip -uq \"drive/My Drive/train_n.zip\""
      ],
      "execution_count": null,
      "outputs": []
    },
    {
      "cell_type": "code",
      "metadata": {
        "id": "fV03F6J4SQwm",
        "colab_type": "code",
        "colab": {}
      },
      "source": [
        "# read the data\n",
        "data = pd.read_csv(\"train.csv\")"
      ],
      "execution_count": null,
      "outputs": []
    },
    {
      "cell_type": "code",
      "metadata": {
        "id": "pqeBqfLFSXbB",
        "colab_type": "code",
        "colab": {}
      },
      "source": [
        "# Create random number generator\n",
        "seed = 42"
      ],
      "execution_count": null,
      "outputs": []
    },
    {
      "cell_type": "code",
      "metadata": {
        "id": "i2GiqTtXSawg",
        "colab_type": "code",
        "colab": {
          "base_uri": "https://localhost:8080/",
          "height": 200
        },
        "outputId": "b892dceb-d962-4670-b3db-b97b185e5379"
      },
      "source": [
        "data.head()"
      ],
      "execution_count": null,
      "outputs": [
        {
          "output_type": "execute_result",
          "data": {
            "text/html": [
              "<div>\n",
              "<style scoped>\n",
              "    .dataframe tbody tr th:only-of-type {\n",
              "        vertical-align: middle;\n",
              "    }\n",
              "\n",
              "    .dataframe tbody tr th {\n",
              "        vertical-align: top;\n",
              "    }\n",
              "\n",
              "    .dataframe thead th {\n",
              "        text-align: right;\n",
              "    }\n",
              "</style>\n",
              "<table border=\"1\" class=\"dataframe\">\n",
              "  <thead>\n",
              "    <tr style=\"text-align: right;\">\n",
              "      <th></th>\n",
              "      <th>image_names</th>\n",
              "      <th>class</th>\n",
              "    </tr>\n",
              "  </thead>\n",
              "  <tbody>\n",
              "    <tr>\n",
              "      <th>0</th>\n",
              "      <td>11413.jpg</td>\n",
              "      <td>1</td>\n",
              "    </tr>\n",
              "    <tr>\n",
              "      <th>1</th>\n",
              "      <td>9863.jpg</td>\n",
              "      <td>1</td>\n",
              "    </tr>\n",
              "    <tr>\n",
              "      <th>2</th>\n",
              "      <td>997.jpg</td>\n",
              "      <td>0</td>\n",
              "    </tr>\n",
              "    <tr>\n",
              "      <th>3</th>\n",
              "      <td>5950.jpg</td>\n",
              "      <td>0</td>\n",
              "    </tr>\n",
              "    <tr>\n",
              "      <th>4</th>\n",
              "      <td>10454.jpg</td>\n",
              "      <td>1</td>\n",
              "    </tr>\n",
              "  </tbody>\n",
              "</table>\n",
              "</div>"
            ],
            "text/plain": [
              "  image_names  class\n",
              "0   11413.jpg      1\n",
              "1    9863.jpg      1\n",
              "2     997.jpg      0\n",
              "3    5950.jpg      0\n",
              "4   10454.jpg      1"
            ]
          },
          "metadata": {
            "tags": []
          },
          "execution_count": 6
        }
      ]
    },
    {
      "cell_type": "code",
      "metadata": {
        "id": "u6Hi5gOVSeNe",
        "colab_type": "code",
        "colab": {
          "base_uri": "https://localhost:8080/",
          "height": 70
        },
        "outputId": "90a319d0-eaf4-4540-b68c-cf7b3db536f5"
      },
      "source": [
        "# Distribution of classes in the dataset\n",
        "data['class'].value_counts()"
      ],
      "execution_count": null,
      "outputs": [
        {
          "output_type": "execute_result",
          "data": {
            "text/plain": [
              "1    6174\n",
              "0    6022\n",
              "Name: class, dtype: int64"
            ]
          },
          "metadata": {
            "tags": []
          },
          "execution_count": 6
        }
      ]
    },
    {
      "cell_type": "code",
      "metadata": {
        "id": "MC04P_JeSffX",
        "colab_type": "code",
        "colab": {}
      },
      "source": [
        "# empty list to store the images\n",
        "X = []\n",
        "# iterating over each image\n",
        "for img_name in data.image_names:\n",
        "  # loading the image using its name\n",
        "  img = plt.imread('images/' + img_name)\n",
        "\n",
        "  # saving each image in the list\n",
        "  X.append(img)\n",
        "\n",
        "# Converting the list of images into array\n",
        "X = np.array(X)\n",
        "\n",
        "# Storing the target variable in saperate variable\n",
        "y = data['class'].values"
      ],
      "execution_count": null,
      "outputs": []
    },
    {
      "cell_type": "code",
      "metadata": {
        "id": "9vv0j8ArSjgM",
        "colab_type": "code",
        "colab": {
          "base_uri": "https://localhost:8080/",
          "height": 35
        },
        "outputId": "eb17905b-5c3a-47c2-c268-99f89b5d2280"
      },
      "source": [
        "# shape of the image\n",
        "X.shape, y.shape"
      ],
      "execution_count": null,
      "outputs": [
        {
          "output_type": "execute_result",
          "data": {
            "text/plain": [
              "((12196, 224, 224, 3), (12196,))"
            ]
          },
          "metadata": {
            "tags": []
          },
          "execution_count": 8
        }
      ]
    },
    {
      "cell_type": "code",
      "metadata": {
        "id": "B4RTSJ_BSwtm",
        "colab_type": "code",
        "colab": {
          "base_uri": "https://localhost:8080/",
          "height": 35
        },
        "outputId": "d7df87e1-bdb2-4382-a060-b320f1587c0d"
      },
      "source": [
        "# Convert 3 dimensional images into 1 dimensional\n",
        "X = X.reshape(X.shape[0], 224*224*3)\n",
        "X.shape"
      ],
      "execution_count": null,
      "outputs": [
        {
          "output_type": "execute_result",
          "data": {
            "text/plain": [
              "(12196, 150528)"
            ]
          },
          "metadata": {
            "tags": []
          },
          "execution_count": 9
        }
      ]
    },
    {
      "cell_type": "code",
      "metadata": {
        "id": "Hk8XJ8ngS4LI",
        "colab_type": "code",
        "colab": {
          "base_uri": "https://localhost:8080/",
          "height": 35
        },
        "outputId": "f1ec7e6e-9402-4b57-ebca-8cca7f86e9d0"
      },
      "source": [
        "# Minimum and maximum pixel value of images\n",
        "X.min(), X.max()"
      ],
      "execution_count": null,
      "outputs": [
        {
          "output_type": "execute_result",
          "data": {
            "text/plain": [
              "(0, 255)"
            ]
          },
          "metadata": {
            "tags": []
          },
          "execution_count": 10
        }
      ]
    },
    {
      "cell_type": "markdown",
      "metadata": {
        "id": "i49_Res7jcyl",
        "colab_type": "text"
      },
      "source": [
        "# **Creating tarining and validation set**"
      ]
    },
    {
      "cell_type": "code",
      "metadata": {
        "id": "olLduJBijOq-",
        "colab_type": "code",
        "colab": {}
      },
      "source": [
        "# Creating training and validation set\n",
        "X_train, X_valid, y_train, y_valid = train_test_split(X,y, test_size = 0.3, random_state= seed)"
      ],
      "execution_count": null,
      "outputs": []
    },
    {
      "cell_type": "code",
      "metadata": {
        "id": "iWRASQ1Cjky8",
        "colab_type": "code",
        "colab": {
          "base_uri": "https://localhost:8080/",
          "height": 35
        },
        "outputId": "88fe5c46-7fac-4453-c817-59d7fd79c452"
      },
      "source": [
        "# Shape of training and validation set\n",
        "(X_train.shape, y_train.shape), (X_valid.shape, y_valid.shape)"
      ],
      "execution_count": null,
      "outputs": [
        {
          "output_type": "execute_result",
          "data": {
            "text/plain": [
              "(((8537, 150528), (8537,)), ((3659, 150528), (3659,)))"
            ]
          },
          "metadata": {
            "tags": []
          },
          "execution_count": 91
        }
      ]
    },
    {
      "cell_type": "markdown",
      "metadata": {
        "id": "FYSOz-_zj_rP",
        "colab_type": "text"
      },
      "source": [
        "# **Using Early Stopping**"
      ]
    },
    {
      "cell_type": "markdown",
      "metadata": {
        "id": "XDjEI0fAkbfb",
        "colab_type": "text"
      },
      "source": [
        "# **Defining the model architecture**"
      ]
    },
    {
      "cell_type": "code",
      "metadata": {
        "id": "VhfIGVm8kLqw",
        "colab_type": "code",
        "colab": {}
      },
      "source": [
        "# Importing the adam optimizers from keras optimizer model\n",
        "from keras.optimizers import Adam"
      ],
      "execution_count": null,
      "outputs": []
    },
    {
      "cell_type": "code",
      "metadata": {
        "id": "OksY_cHbkxcy",
        "colab_type": "code",
        "colab": {}
      },
      "source": [
        "# Defining the adam optimezer and setting the learning rate 10^-5\n",
        "adam = Adam(lr=1e-5)"
      ],
      "execution_count": null,
      "outputs": []
    },
    {
      "cell_type": "code",
      "metadata": {
        "id": "MoR51X5Pk4oB",
        "colab_type": "code",
        "colab": {}
      },
      "source": [
        "# Defining the architecture of the model\n",
        "model = Sequential()\n",
        "model.add(InputLayer(input_shape=(224*224*3,)))\n",
        "model.add(Dense(100, activation='sigmoid'))\n",
        "model.add(Dense(100, activation='sigmoid'))\n",
        "model.add(Dense(units=1, activation='sigmoid'))\n",
        "\n",
        "\n",
        "# Compling the model\n",
        "model.compile(loss='binary_crossentropy', optimizer='adam', metrics=['accuracy'])"
      ],
      "execution_count": null,
      "outputs": []
    },
    {
      "cell_type": "code",
      "metadata": {
        "id": "v9nPF0N3k7xI",
        "colab_type": "code",
        "colab": {}
      },
      "source": [
        "# Importing module for early stopping\n",
        "from keras.callbacks import EarlyStopping"
      ],
      "execution_count": null,
      "outputs": []
    },
    {
      "cell_type": "code",
      "metadata": {
        "id": "qaNIJBLUlU1f",
        "colab_type": "code",
        "colab": {}
      },
      "source": [
        "# Setting up Early Stopping\n",
        "early_stopping = EarlyStopping(monitor='val_loss', min_delta=0.01, patience=5, mode='min')"
      ],
      "execution_count": null,
      "outputs": []
    },
    {
      "cell_type": "markdown",
      "metadata": {
        "id": "x34EdD0vlfgQ",
        "colab_type": "text"
      },
      "source": [
        "# **Training the model using Early Stopping**"
      ]
    },
    {
      "cell_type": "code",
      "metadata": {
        "id": "pIcp4WZIlhwl",
        "colab_type": "code",
        "colab": {
          "base_uri": "https://localhost:8080/",
          "height": 230
        },
        "outputId": "ec88dd38-3b37-482f-f7d4-1ad9ce750747"
      },
      "source": [
        "# Training the model fro 100 epochs\n",
        "\n",
        "# Defining the early stopping as call back using call back parameter of model fit\n",
        "model_history = model.fit(X_train, y_train, epochs=100, batch_size=128, validation_data=(X_valid, y_valid), callbacks=[early_stopping])"
      ],
      "execution_count": null,
      "outputs": [
        {
          "output_type": "stream",
          "text": [
            "Epoch 1/100\n",
            "67/67 [==============================] - 2s 32ms/step - loss: 0.6946 - accuracy: 0.4974 - val_loss: 0.6966 - val_accuracy: 0.5157\n",
            "Epoch 2/100\n",
            "67/67 [==============================] - 2s 29ms/step - loss: 0.6938 - accuracy: 0.5127 - val_loss: 0.6933 - val_accuracy: 0.5157\n",
            "Epoch 3/100\n",
            "67/67 [==============================] - 2s 30ms/step - loss: 0.6940 - accuracy: 0.5086 - val_loss: 0.6958 - val_accuracy: 0.4843\n",
            "Epoch 4/100\n",
            "67/67 [==============================] - 2s 29ms/step - loss: 0.6953 - accuracy: 0.5009 - val_loss: 0.6927 - val_accuracy: 0.5157\n",
            "Epoch 5/100\n",
            "67/67 [==============================] - 2s 29ms/step - loss: 0.6966 - accuracy: 0.4920 - val_loss: 0.6970 - val_accuracy: 0.4843\n",
            "Epoch 6/100\n",
            "67/67 [==============================] - 2s 29ms/step - loss: 0.6940 - accuracy: 0.4906 - val_loss: 0.6929 - val_accuracy: 0.5157\n"
          ],
          "name": "stdout"
        }
      ]
    },
    {
      "cell_type": "markdown",
      "metadata": {
        "id": "Aus1yy5Hl7Qu",
        "colab_type": "text"
      },
      "source": [
        "# **Evaluating model performance**"
      ]
    },
    {
      "cell_type": "code",
      "metadata": {
        "id": "UCeVRazSl2Xt",
        "colab_type": "code",
        "colab": {
          "base_uri": "https://localhost:8080/",
          "height": 35
        },
        "outputId": "eea9a508-e9c3-44cd-e474-eca93362cbdf"
      },
      "source": [
        "# Accuracy on validation set\n",
        "from sklearn.metrics import accuracy_score\n",
        "print('Accuracy on validation set:', accuracy_score(y_valid, model.predict_classes(X_valid)[:,0]), '%')"
      ],
      "execution_count": null,
      "outputs": [
        {
          "output_type": "stream",
          "text": [
            "Accuracy on validation set: 0.5157146761410222 %\n"
          ],
          "name": "stdout"
        }
      ]
    },
    {
      "cell_type": "code",
      "metadata": {
        "id": "9iBv0wIMmJHH",
        "colab_type": "code",
        "colab": {
          "base_uri": "https://localhost:8080/",
          "height": 295
        },
        "outputId": "41445e01-df1b-45be-f53f-e43583c989a0"
      },
      "source": [
        "# Summarize history for loss\n",
        "plt.plot(model_history.history['loss'])\n",
        "plt.plot(model_history.history['val_loss'])\n",
        "plt.title('model loss')\n",
        "plt.ylabel('loss')\n",
        "plt.xlabel('epoch')\n",
        "plt.legend(['train', 'validation'], loc = 'upper left')\n",
        "plt.show()"
      ],
      "execution_count": null,
      "outputs": [
        {
          "output_type": "display_data",
          "data": {
            "image/png": "[encoded data removed]",
            "text/plain": [
              "<Figure size 432x288 with 1 Axes>"
            ]
          },
          "metadata": {
            "tags": [],
            "needs_background": "light"
          }
        }
      ]
    },
    {
      "cell_type": "markdown",
      "metadata": {
        "id": "a8UytY3Ym4F7",
        "colab_type": "text"
      },
      "source": [
        "# **Hyperparameter tuning for Early Stopping**"
      ]
    },
    {
      "cell_type": "code",
      "metadata": {
        "id": "GhURdVLum9wU",
        "colab_type": "code",
        "colab": {}
      },
      "source": [
        "# Defining the architecture of the model\n",
        "model = Sequential()\n",
        "model.add(InputLayer(input_shape=(224*224*3,)))\n",
        "model.add(Dense(100, activation='sigmoid'))\n",
        "model.add(Dense(100, activation='sigmoid'))\n",
        "model.add(Dense(units=1, activation='sigmoid'))\n",
        "\n",
        "\n",
        "# Compling the model\n",
        "model.compile(loss='binary_crossentropy', optimizer='adam', metrics=['accuracy'])"
      ],
      "execution_count": null,
      "outputs": []
    },
    {
      "cell_type": "code",
      "metadata": {
        "id": "uSGmu-VbnFeJ",
        "colab_type": "code",
        "colab": {}
      },
      "source": [
        "# Increase the patience and threshold value\n",
        "early_stopping = EarlyStopping(monitor='val_loss', min_delta=0.01, patience=10, mode='min')"
      ],
      "execution_count": null,
      "outputs": []
    },
    {
      "cell_type": "code",
      "metadata": {
        "id": "fdvmOSJ8nMoz",
        "colab_type": "code",
        "colab": {
          "base_uri": "https://localhost:8080/",
          "height": 408
        },
        "outputId": "a0cce201-a567-4020-fa67-9a1ef4c07e97"
      },
      "source": [
        "# Training the model fro 100 epochs\n",
        "\n",
        "model_history = model.fit(X_train, y_train, epochs=100, batch_size=128, validation_data=(X_valid, y_valid), callbacks=[early_stopping])"
      ],
      "execution_count": null,
      "outputs": [
        {
          "output_type": "stream",
          "text": [
            "Epoch 1/100\n",
            "67/67 [==============================] - 2s 33ms/step - loss: 0.6987 - accuracy: 0.4989 - val_loss: 0.6927 - val_accuracy: 0.5157\n",
            "Epoch 2/100\n",
            "67/67 [==============================] - 2s 29ms/step - loss: 0.6952 - accuracy: 0.4931 - val_loss: 0.6972 - val_accuracy: 0.4843\n",
            "Epoch 3/100\n",
            "67/67 [==============================] - 2s 29ms/step - loss: 0.6938 - accuracy: 0.5051 - val_loss: 0.6934 - val_accuracy: 0.4846\n",
            "Epoch 4/100\n",
            "67/67 [==============================] - 2s 29ms/step - loss: 0.6953 - accuracy: 0.5010 - val_loss: 0.6944 - val_accuracy: 0.5157\n",
            "Epoch 5/100\n",
            "67/67 [==============================] - 2s 29ms/step - loss: 0.6937 - accuracy: 0.5045 - val_loss: 0.6928 - val_accuracy: 0.5157\n",
            "Epoch 6/100\n",
            "67/67 [==============================] - 2s 29ms/step - loss: 0.6943 - accuracy: 0.4913 - val_loss: 0.6955 - val_accuracy: 0.5157\n",
            "Epoch 7/100\n",
            "67/67 [==============================] - 2s 29ms/step - loss: 0.6936 - accuracy: 0.5028 - val_loss: 0.6931 - val_accuracy: 0.5157\n",
            "Epoch 8/100\n",
            "67/67 [==============================] - 2s 29ms/step - loss: 0.6941 - accuracy: 0.5095 - val_loss: 0.6932 - val_accuracy: 0.5157\n",
            "Epoch 9/100\n",
            "67/67 [==============================] - 2s 29ms/step - loss: 0.6950 - accuracy: 0.4997 - val_loss: 0.6934 - val_accuracy: 0.4846\n",
            "Epoch 10/100\n",
            "67/67 [==============================] - 2s 30ms/step - loss: 0.6953 - accuracy: 0.5066 - val_loss: 0.6946 - val_accuracy: 0.5157\n",
            "Epoch 11/100\n",
            "67/67 [==============================] - 2s 29ms/step - loss: 0.6951 - accuracy: 0.5101 - val_loss: 0.6927 - val_accuracy: 0.5157\n"
          ],
          "name": "stdout"
        }
      ]
    },
    {
      "cell_type": "code",
      "metadata": {
        "id": "ShdHvcHinZjE",
        "colab_type": "code",
        "colab": {
          "base_uri": "https://localhost:8080/",
          "height": 35
        },
        "outputId": "32675fff-70be-4185-f67f-d1079fc561e8"
      },
      "source": [
        "# Accuracy on validation set\n",
        "from sklearn.metrics import accuracy_score\n",
        "print('Accuracy on validation set:', accuracy_score(y_valid, model.predict_classes(X_valid)[:,0]), '%')"
      ],
      "execution_count": null,
      "outputs": [
        {
          "output_type": "stream",
          "text": [
            "Accuracy on validation set: 0.5157146761410222 %\n"
          ],
          "name": "stdout"
        }
      ]
    },
    {
      "cell_type": "code",
      "metadata": {
        "id": "zIs4RPlHnhR9",
        "colab_type": "code",
        "colab": {
          "base_uri": "https://localhost:8080/",
          "height": 295
        },
        "outputId": "d39bac0c-6bf4-47a9-ec88-8891ce0a581f"
      },
      "source": [
        "# Summarize history for loss\n",
        "plt.plot(model_history.history['loss'])\n",
        "plt.plot(model_history.history['val_loss'])\n",
        "plt.title('model loss')\n",
        "plt.ylabel('loss')\n",
        "plt.xlabel('epoch')\n",
        "plt.legend(['train', 'validation'], loc = 'upper left')\n",
        "plt.show()"
      ],
      "execution_count": null,
      "outputs": [
        {
          "output_type": "display_data",
          "data": {
            "image/png": "[encoded data removed]",
            "text/plain": [
              "<Figure size 432x288 with 1 Axes>"
            ]
          },
          "metadata": {
            "tags": [],
            "needs_background": "light"
          }
        }
      ]
    },
    {
      "cell_type": "markdown",
      "metadata": {
        "id": "3nWJR8YtnkbN",
        "colab_type": "text"
      },
      "source": [
        "# **Using DropOut**"
      ]
    },
    {
      "cell_type": "markdown",
      "metadata": {
        "id": "eImNpp2knu1E",
        "colab_type": "text"
      },
      "source": [
        "# **Define the model Architecture and Adding Dropout layer**"
      ]
    },
    {
      "cell_type": "code",
      "metadata": {
        "id": "wFs_eFQVnrTF",
        "colab_type": "code",
        "colab": {}
      },
      "source": [
        "# Importing Dropout layer\n",
        "from keras.layers import Dropout"
      ],
      "execution_count": null,
      "outputs": []
    },
    {
      "cell_type": "code",
      "metadata": {
        "id": "GUD1lCyFn5N_",
        "colab_type": "code",
        "colab": {}
      },
      "source": [
        "# Defining the model architecture with dropout layer\n",
        "model = Sequential()\n",
        "model.add(InputLayer(input_shape=(224*224*3,)))\n",
        "model.add(Dense(100, activation='sigmoid'))\n",
        "model.add(Dropout(rate=0.5))\n",
        "model.add(Dense(100, activation='sigmoid'))\n",
        "model.add(Dropout(rate=0.5))\n",
        "model.add(Dense(units=1, activation='sigmoid'))"
      ],
      "execution_count": null,
      "outputs": []
    },
    {
      "cell_type": "code",
      "metadata": {
        "id": "poae0GlNoCS4",
        "colab_type": "code",
        "colab": {}
      },
      "source": [
        "# Defining the adam optimezer and setting the learning rate 10^-5\n",
        "adam = Adam(lr=1e-5)"
      ],
      "execution_count": null,
      "outputs": []
    },
    {
      "cell_type": "code",
      "metadata": {
        "id": "pE-3qgk0oHOB",
        "colab_type": "code",
        "colab": {}
      },
      "source": [
        "# Compling the model\n",
        "model.compile(loss='binary_crossentropy', optimizer=adam, metrics=['accuracy'])"
      ],
      "execution_count": null,
      "outputs": []
    },
    {
      "cell_type": "markdown",
      "metadata": {
        "id": "221280CooL46",
        "colab_type": "text"
      },
      "source": [
        "# **Training the model using Dropout**"
      ]
    },
    {
      "cell_type": "code",
      "metadata": {
        "id": "WxXrsCLYoPcc",
        "colab_type": "code",
        "colab": {
          "base_uri": "https://localhost:8080/",
          "height": 1000
        },
        "outputId": "3877db77-a53a-4ee1-b3cb-cd783f2799c9"
      },
      "source": [
        "# Training the model fro 100 epochs\n",
        "\n",
        "model_history = model.fit(X_train, y_train, epochs=100, batch_size=128, validation_data=(X_valid, y_valid))"
      ],
      "execution_count": null,
      "outputs": [
        {
          "output_type": "stream",
          "text": [
            "Epoch 1/100\n",
            "67/67 [==============================] - 2s 33ms/step - loss: 0.7971 - accuracy: 0.4968 - val_loss: 0.6979 - val_accuracy: 0.5157\n",
            "Epoch 2/100\n",
            "67/67 [==============================] - 2s 29ms/step - loss: 0.7833 - accuracy: 0.5107 - val_loss: 0.6948 - val_accuracy: 0.5157\n",
            "Epoch 3/100\n",
            "67/67 [==============================] - 2s 30ms/step - loss: 0.7938 - accuracy: 0.5006 - val_loss: 0.6935 - val_accuracy: 0.5157\n",
            "Epoch 4/100\n",
            "67/67 [==============================] - 2s 29ms/step - loss: 0.7924 - accuracy: 0.4895 - val_loss: 0.6929 - val_accuracy: 0.5157\n",
            "Epoch 5/100\n",
            "67/67 [==============================] - 2s 29ms/step - loss: 0.7844 - accuracy: 0.5017 - val_loss: 0.6927 - val_accuracy: 0.5157\n",
            "Epoch 6/100\n",
            "67/67 [==============================] - 2s 30ms/step - loss: 0.7846 - accuracy: 0.4972 - val_loss: 0.6927 - val_accuracy: 0.5157\n",
            "Epoch 7/100\n",
            "67/67 [==============================] - 2s 29ms/step - loss: 0.7899 - accuracy: 0.4960 - val_loss: 0.6928 - val_accuracy: 0.5157\n",
            "Epoch 8/100\n",
            "67/67 [==============================] - 2s 30ms/step - loss: 0.7739 - accuracy: 0.5060 - val_loss: 0.6929 - val_accuracy: 0.5157\n",
            "Epoch 9/100\n",
            "67/67 [==============================] - 2s 30ms/step - loss: 0.7889 - accuracy: 0.4944 - val_loss: 0.6929 - val_accuracy: 0.5157\n",
            "Epoch 10/100\n",
            "67/67 [==============================] - 2s 30ms/step - loss: 0.7841 - accuracy: 0.5035 - val_loss: 0.6930 - val_accuracy: 0.5157\n",
            "Epoch 11/100\n",
            "67/67 [==============================] - 2s 30ms/step - loss: 0.7759 - accuracy: 0.4988 - val_loss: 0.6930 - val_accuracy: 0.5157\n",
            "Epoch 12/100\n",
            "67/67 [==============================] - 2s 29ms/step - loss: 0.7744 - accuracy: 0.5095 - val_loss: 0.6930 - val_accuracy: 0.5157\n",
            "Epoch 13/100\n",
            "67/67 [==============================] - 2s 30ms/step - loss: 0.7754 - accuracy: 0.5028 - val_loss: 0.6931 - val_accuracy: 0.5157\n",
            "Epoch 14/100\n",
            "67/67 [==============================] - 2s 30ms/step - loss: 0.7779 - accuracy: 0.4976 - val_loss: 0.6930 - val_accuracy: 0.5157\n",
            "Epoch 15/100\n",
            "67/67 [==============================] - 2s 29ms/step - loss: 0.7837 - accuracy: 0.4923 - val_loss: 0.6931 - val_accuracy: 0.5160\n",
            "Epoch 16/100\n",
            "67/67 [==============================] - 2s 29ms/step - loss: 0.7809 - accuracy: 0.4924 - val_loss: 0.6931 - val_accuracy: 0.5160\n",
            "Epoch 17/100\n",
            "67/67 [==============================] - 2s 29ms/step - loss: 0.7729 - accuracy: 0.5011 - val_loss: 0.6932 - val_accuracy: 0.4846\n",
            "Epoch 18/100\n",
            "67/67 [==============================] - 2s 30ms/step - loss: 0.7709 - accuracy: 0.5029 - val_loss: 0.6931 - val_accuracy: 0.5160\n",
            "Epoch 19/100\n",
            "67/67 [==============================] - 2s 30ms/step - loss: 0.7741 - accuracy: 0.5003 - val_loss: 0.6931 - val_accuracy: 0.5157\n",
            "Epoch 20/100\n",
            "67/67 [==============================] - 2s 29ms/step - loss: 0.7766 - accuracy: 0.4982 - val_loss: 0.6932 - val_accuracy: 0.4846\n",
            "Epoch 21/100\n",
            "67/67 [==============================] - 2s 29ms/step - loss: 0.7788 - accuracy: 0.4955 - val_loss: 0.6932 - val_accuracy: 0.4843\n",
            "Epoch 22/100\n",
            "67/67 [==============================] - 2s 29ms/step - loss: 0.7722 - accuracy: 0.5054 - val_loss: 0.6932 - val_accuracy: 0.4843\n",
            "Epoch 23/100\n",
            "67/67 [==============================] - 2s 29ms/step - loss: 0.7762 - accuracy: 0.4965 - val_loss: 0.6932 - val_accuracy: 0.4843\n",
            "Epoch 24/100\n",
            "67/67 [==============================] - 2s 30ms/step - loss: 0.7712 - accuracy: 0.5023 - val_loss: 0.6933 - val_accuracy: 0.4843\n",
            "Epoch 25/100\n",
            "67/67 [==============================] - 2s 29ms/step - loss: 0.7699 - accuracy: 0.5037 - val_loss: 0.6933 - val_accuracy: 0.4843\n",
            "Epoch 26/100\n",
            "67/67 [==============================] - 2s 30ms/step - loss: 0.7692 - accuracy: 0.5025 - val_loss: 0.6933 - val_accuracy: 0.4843\n",
            "Epoch 27/100\n",
            "67/67 [==============================] - 2s 30ms/step - loss: 0.7646 - accuracy: 0.5044 - val_loss: 0.6933 - val_accuracy: 0.4843\n",
            "Epoch 28/100\n",
            "67/67 [==============================] - 2s 29ms/step - loss: 0.7678 - accuracy: 0.5035 - val_loss: 0.6931 - val_accuracy: 0.5160\n",
            "Epoch 29/100\n",
            "67/67 [==============================] - 2s 30ms/step - loss: 0.7668 - accuracy: 0.5002 - val_loss: 0.6932 - val_accuracy: 0.4846\n",
            "Epoch 30/100\n",
            "67/67 [==============================] - 2s 29ms/step - loss: 0.7717 - accuracy: 0.4922 - val_loss: 0.6932 - val_accuracy: 0.4843\n",
            "Epoch 31/100\n",
            "67/67 [==============================] - 2s 29ms/step - loss: 0.7699 - accuracy: 0.5025 - val_loss: 0.6932 - val_accuracy: 0.4846\n",
            "Epoch 32/100\n",
            "67/67 [==============================] - 2s 30ms/step - loss: 0.7767 - accuracy: 0.4900 - val_loss: 0.6932 - val_accuracy: 0.4843\n",
            "Epoch 33/100\n",
            "67/67 [==============================] - 2s 30ms/step - loss: 0.7642 - accuracy: 0.5001 - val_loss: 0.6932 - val_accuracy: 0.4848\n",
            "Epoch 34/100\n",
            "67/67 [==============================] - 2s 29ms/step - loss: 0.7672 - accuracy: 0.5005 - val_loss: 0.6941 - val_accuracy: 0.4843\n",
            "Epoch 35/100\n",
            "67/67 [==============================] - 2s 29ms/step - loss: 0.7642 - accuracy: 0.5079 - val_loss: 0.6940 - val_accuracy: 0.4843\n",
            "Epoch 36/100\n",
            "67/67 [==============================] - 2s 30ms/step - loss: 0.7691 - accuracy: 0.5029 - val_loss: 0.6937 - val_accuracy: 0.4843\n",
            "Epoch 37/100\n",
            "67/67 [==============================] - 2s 29ms/step - loss: 0.7672 - accuracy: 0.5039 - val_loss: 0.6927 - val_accuracy: 0.5163\n",
            "Epoch 38/100\n",
            "67/67 [==============================] - 2s 30ms/step - loss: 0.7615 - accuracy: 0.5028 - val_loss: 0.6937 - val_accuracy: 0.4843\n",
            "Epoch 39/100\n",
            "67/67 [==============================] - 2s 30ms/step - loss: 0.7663 - accuracy: 0.4996 - val_loss: 0.6937 - val_accuracy: 0.4843\n",
            "Epoch 40/100\n",
            "67/67 [==============================] - 2s 30ms/step - loss: 0.7734 - accuracy: 0.4845 - val_loss: 0.6936 - val_accuracy: 0.4843\n",
            "Epoch 41/100\n",
            "67/67 [==============================] - 2s 29ms/step - loss: 0.7615 - accuracy: 0.5038 - val_loss: 0.6935 - val_accuracy: 0.4843\n",
            "Epoch 42/100\n",
            "67/67 [==============================] - 2s 29ms/step - loss: 0.7625 - accuracy: 0.4968 - val_loss: 0.6936 - val_accuracy: 0.4843\n",
            "Epoch 43/100\n",
            "67/67 [==============================] - 2s 30ms/step - loss: 0.7591 - accuracy: 0.5061 - val_loss: 0.6934 - val_accuracy: 0.4843\n",
            "Epoch 44/100\n",
            "67/67 [==============================] - 2s 30ms/step - loss: 0.7663 - accuracy: 0.4947 - val_loss: 0.6935 - val_accuracy: 0.4843\n",
            "Epoch 45/100\n",
            "67/67 [==============================] - 2s 30ms/step - loss: 0.7596 - accuracy: 0.4981 - val_loss: 0.6934 - val_accuracy: 0.4843\n",
            "Epoch 46/100\n",
            "67/67 [==============================] - 2s 29ms/step - loss: 0.7645 - accuracy: 0.4921 - val_loss: 0.6934 - val_accuracy: 0.4843\n",
            "Epoch 47/100\n",
            "67/67 [==============================] - 2s 29ms/step - loss: 0.7627 - accuracy: 0.4978 - val_loss: 0.6933 - val_accuracy: 0.4843\n",
            "Epoch 48/100\n",
            "67/67 [==============================] - 2s 29ms/step - loss: 0.7645 - accuracy: 0.4892 - val_loss: 0.6934 - val_accuracy: 0.4843\n",
            "Epoch 49/100\n",
            "67/67 [==============================] - 2s 30ms/step - loss: 0.7639 - accuracy: 0.4983 - val_loss: 0.6933 - val_accuracy: 0.4843\n",
            "Epoch 50/100\n",
            "67/67 [==============================] - 2s 29ms/step - loss: 0.7595 - accuracy: 0.4962 - val_loss: 0.6933 - val_accuracy: 0.4843\n",
            "Epoch 51/100\n",
            "67/67 [==============================] - 2s 30ms/step - loss: 0.7601 - accuracy: 0.4976 - val_loss: 0.6933 - val_accuracy: 0.4843\n",
            "Epoch 52/100\n",
            "67/67 [==============================] - 2s 29ms/step - loss: 0.7542 - accuracy: 0.5030 - val_loss: 0.6934 - val_accuracy: 0.4843\n",
            "Epoch 53/100\n",
            "67/67 [==============================] - 2s 29ms/step - loss: 0.7579 - accuracy: 0.4996 - val_loss: 0.6934 - val_accuracy: 0.4843\n",
            "Epoch 54/100\n",
            "67/67 [==============================] - 2s 30ms/step - loss: 0.7563 - accuracy: 0.4998 - val_loss: 0.6933 - val_accuracy: 0.4843\n",
            "Epoch 55/100\n",
            "67/67 [==============================] - 2s 30ms/step - loss: 0.7588 - accuracy: 0.4980 - val_loss: 0.6932 - val_accuracy: 0.4843\n",
            "Epoch 56/100\n",
            "67/67 [==============================] - 2s 29ms/step - loss: 0.7577 - accuracy: 0.5049 - val_loss: 0.6932 - val_accuracy: 0.4843\n",
            "Epoch 57/100\n",
            "67/67 [==============================] - 2s 29ms/step - loss: 0.7557 - accuracy: 0.4972 - val_loss: 0.6932 - val_accuracy: 0.4843\n",
            "Epoch 58/100\n",
            "67/67 [==============================] - 2s 29ms/step - loss: 0.7549 - accuracy: 0.5054 - val_loss: 0.6932 - val_accuracy: 0.4840\n",
            "Epoch 59/100\n",
            "67/67 [==============================] - 2s 30ms/step - loss: 0.7574 - accuracy: 0.4987 - val_loss: 0.6933 - val_accuracy: 0.4843\n",
            "Epoch 60/100\n",
            "67/67 [==============================] - 2s 30ms/step - loss: 0.7594 - accuracy: 0.4931 - val_loss: 0.6932 - val_accuracy: 0.4843\n",
            "Epoch 61/100\n",
            "67/67 [==============================] - 2s 29ms/step - loss: 0.7533 - accuracy: 0.4953 - val_loss: 0.6933 - val_accuracy: 0.4843\n",
            "Epoch 62/100\n",
            "67/67 [==============================] - 2s 29ms/step - loss: 0.7526 - accuracy: 0.4931 - val_loss: 0.6932 - val_accuracy: 0.4843\n",
            "Epoch 63/100\n",
            "67/67 [==============================] - 2s 29ms/step - loss: 0.7538 - accuracy: 0.4969 - val_loss: 0.6934 - val_accuracy: 0.4843\n",
            "Epoch 64/100\n",
            "67/67 [==============================] - 2s 29ms/step - loss: 0.7456 - accuracy: 0.5064 - val_loss: 0.6933 - val_accuracy: 0.4843\n",
            "Epoch 65/100\n",
            "67/67 [==============================] - 2s 30ms/step - loss: 0.7484 - accuracy: 0.5004 - val_loss: 0.6933 - val_accuracy: 0.4843\n",
            "Epoch 66/100\n",
            "67/67 [==============================] - 2s 31ms/step - loss: 0.7470 - accuracy: 0.5128 - val_loss: 0.6933 - val_accuracy: 0.4843\n",
            "Epoch 67/100\n",
            "67/67 [==============================] - 2s 31ms/step - loss: 0.7473 - accuracy: 0.4988 - val_loss: 0.6934 - val_accuracy: 0.4843\n",
            "Epoch 68/100\n",
            "67/67 [==============================] - 2s 31ms/step - loss: 0.7551 - accuracy: 0.4927 - val_loss: 0.6933 - val_accuracy: 0.4843\n",
            "Epoch 69/100\n",
            "67/67 [==============================] - 2s 31ms/step - loss: 0.7556 - accuracy: 0.4885 - val_loss: 0.6934 - val_accuracy: 0.4843\n",
            "Epoch 70/100\n",
            "67/67 [==============================] - 2s 30ms/step - loss: 0.7543 - accuracy: 0.4969 - val_loss: 0.6932 - val_accuracy: 0.4843\n",
            "Epoch 71/100\n",
            "67/67 [==============================] - 2s 29ms/step - loss: 0.7521 - accuracy: 0.4996 - val_loss: 0.6932 - val_accuracy: 0.4843\n",
            "Epoch 72/100\n",
            "67/67 [==============================] - 2s 30ms/step - loss: 0.7531 - accuracy: 0.4956 - val_loss: 0.6933 - val_accuracy: 0.4843\n",
            "Epoch 73/100\n",
            "67/67 [==============================] - 2s 29ms/step - loss: 0.7506 - accuracy: 0.4998 - val_loss: 0.6933 - val_accuracy: 0.4843\n",
            "Epoch 74/100\n",
            "67/67 [==============================] - 2s 29ms/step - loss: 0.7415 - accuracy: 0.5056 - val_loss: 0.6933 - val_accuracy: 0.4843\n",
            "Epoch 75/100\n",
            "67/67 [==============================] - 2s 30ms/step - loss: 0.7489 - accuracy: 0.4970 - val_loss: 0.6932 - val_accuracy: 0.4843\n",
            "Epoch 76/100\n",
            "67/67 [==============================] - 2s 29ms/step - loss: 0.7443 - accuracy: 0.4977 - val_loss: 0.6933 - val_accuracy: 0.4843\n",
            "Epoch 77/100\n",
            "67/67 [==============================] - 2s 29ms/step - loss: 0.7467 - accuracy: 0.4940 - val_loss: 0.6933 - val_accuracy: 0.4843\n",
            "Epoch 78/100\n",
            "67/67 [==============================] - 2s 29ms/step - loss: 0.7457 - accuracy: 0.4905 - val_loss: 0.6932 - val_accuracy: 0.4843\n",
            "Epoch 79/100\n",
            "67/67 [==============================] - 2s 29ms/step - loss: 0.7412 - accuracy: 0.5028 - val_loss: 0.6932 - val_accuracy: 0.4840\n",
            "Epoch 80/100\n",
            "67/67 [==============================] - 2s 30ms/step - loss: 0.7387 - accuracy: 0.5039 - val_loss: 0.6933 - val_accuracy: 0.4843\n",
            "Epoch 81/100\n",
            "67/67 [==============================] - 2s 29ms/step - loss: 0.7432 - accuracy: 0.5120 - val_loss: 0.6932 - val_accuracy: 0.4840\n",
            "Epoch 82/100\n",
            "67/67 [==============================] - 2s 30ms/step - loss: 0.7471 - accuracy: 0.4991 - val_loss: 0.6933 - val_accuracy: 0.4843\n",
            "Epoch 83/100\n",
            "67/67 [==============================] - 2s 29ms/step - loss: 0.7454 - accuracy: 0.5019 - val_loss: 0.6932 - val_accuracy: 0.4843\n",
            "Epoch 84/100\n",
            "67/67 [==============================] - 2s 30ms/step - loss: 0.7428 - accuracy: 0.4957 - val_loss: 0.6933 - val_accuracy: 0.4843\n",
            "Epoch 85/100\n",
            "67/67 [==============================] - 2s 29ms/step - loss: 0.7433 - accuracy: 0.4997 - val_loss: 0.6933 - val_accuracy: 0.4843\n",
            "Epoch 86/100\n",
            "67/67 [==============================] - 2s 29ms/step - loss: 0.7428 - accuracy: 0.5052 - val_loss: 0.6933 - val_accuracy: 0.4843\n",
            "Epoch 87/100\n",
            "67/67 [==============================] - 2s 30ms/step - loss: 0.7438 - accuracy: 0.5010 - val_loss: 0.6933 - val_accuracy: 0.4843\n",
            "Epoch 88/100\n",
            "67/67 [==============================] - 2s 29ms/step - loss: 0.7403 - accuracy: 0.5033 - val_loss: 0.6934 - val_accuracy: 0.4843\n",
            "Epoch 89/100\n",
            "67/67 [==============================] - 2s 29ms/step - loss: 0.7413 - accuracy: 0.5042 - val_loss: 0.6933 - val_accuracy: 0.4843\n",
            "Epoch 90/100\n",
            "67/67 [==============================] - 2s 30ms/step - loss: 0.7378 - accuracy: 0.5060 - val_loss: 0.6932 - val_accuracy: 0.4843\n",
            "Epoch 91/100\n",
            "67/67 [==============================] - 2s 30ms/step - loss: 0.7445 - accuracy: 0.4950 - val_loss: 0.6933 - val_accuracy: 0.4843\n",
            "Epoch 92/100\n",
            "67/67 [==============================] - 2s 30ms/step - loss: 0.7408 - accuracy: 0.4991 - val_loss: 0.6932 - val_accuracy: 0.4840\n",
            "Epoch 93/100\n",
            "67/67 [==============================] - 2s 29ms/step - loss: 0.7359 - accuracy: 0.5020 - val_loss: 0.6932 - val_accuracy: 0.4840\n",
            "Epoch 94/100\n",
            "67/67 [==============================] - 2s 29ms/step - loss: 0.7418 - accuracy: 0.4950 - val_loss: 0.6932 - val_accuracy: 0.4840\n",
            "Epoch 95/100\n",
            "67/67 [==============================] - 2s 29ms/step - loss: 0.7429 - accuracy: 0.4976 - val_loss: 0.6932 - val_accuracy: 0.4840\n",
            "Epoch 96/100\n",
            "67/67 [==============================] - 2s 29ms/step - loss: 0.7378 - accuracy: 0.5052 - val_loss: 0.6932 - val_accuracy: 0.4843\n",
            "Epoch 97/100\n",
            "67/67 [==============================] - 2s 30ms/step - loss: 0.7354 - accuracy: 0.5036 - val_loss: 0.6933 - val_accuracy: 0.4843\n",
            "Epoch 98/100\n",
            "67/67 [==============================] - 2s 30ms/step - loss: 0.7393 - accuracy: 0.4941 - val_loss: 0.6933 - val_accuracy: 0.4843\n",
            "Epoch 99/100\n",
            "67/67 [==============================] - 2s 29ms/step - loss: 0.7352 - accuracy: 0.5049 - val_loss: 0.6932 - val_accuracy: 0.4840\n",
            "Epoch 100/100\n",
            "67/67 [==============================] - 2s 29ms/step - loss: 0.7374 - accuracy: 0.5020 - val_loss: 0.6932 - val_accuracy: 0.4840\n"
          ],
          "name": "stdout"
        }
      ]
    },
    {
      "cell_type": "code",
      "metadata": {
        "id": "K9EL6vGApRE-",
        "colab_type": "code",
        "colab": {
          "base_uri": "https://localhost:8080/",
          "height": 35
        },
        "outputId": "17fe4a1e-bdfe-4ccc-8b50-68c993dede07"
      },
      "source": [
        "# Accuracy on validation set\n",
        "from sklearn.metrics import accuracy_score\n",
        "print('Accuracy on validation set:', accuracy_score(y_valid, model.predict_classes(X_valid)[:,0]), '%')"
      ],
      "execution_count": null,
      "outputs": [
        {
          "output_type": "stream",
          "text": [
            "Accuracy on validation set: 0.48401202514348185 %\n"
          ],
          "name": "stdout"
        }
      ]
    },
    {
      "cell_type": "code",
      "metadata": {
        "id": "75CjvnAopZEB",
        "colab_type": "code",
        "colab": {
          "base_uri": "https://localhost:8080/",
          "height": 295
        },
        "outputId": "38feb18b-ce23-4d8f-ea30-91314b011b58"
      },
      "source": [
        "# Summarize history for loss\n",
        "plt.plot(model_history.history['loss'])\n",
        "plt.plot(model_history.history['val_loss'])\n",
        "plt.title('model loss')\n",
        "plt.ylabel('loss')\n",
        "plt.xlabel('epoch')\n",
        "plt.legend(['train', 'validation'], loc = 'upper left')\n",
        "plt.show()"
      ],
      "execution_count": null,
      "outputs": [
        {
          "output_type": "display_data",
          "data": {
            "image/png": "[encoded data removed]",
            "text/plain": [
              "<Figure size 432x288 with 1 Axes>"
            ]
          },
          "metadata": {
            "tags": [],
            "needs_background": "light"
          }
        }
      ]
    },
    {
      "cell_type": "markdown",
      "metadata": {
        "id": "Auv1QohLp0Ly",
        "colab_type": "text"
      },
      "source": [
        "# **Using Vanishing/Exploading Gradients**"
      ]
    },
    {
      "cell_type": "markdown",
      "metadata": {
        "id": "EneHKKT7p8iD",
        "colab_type": "text"
      },
      "source": [
        "# **Defining the model Architecture and Compile the model**"
      ]
    },
    {
      "cell_type": "code",
      "metadata": {
        "id": "fvDy78E0p2pz",
        "colab_type": "code",
        "colab": {}
      },
      "source": [
        "# Defining the model architecture\n",
        "model = Sequential()\n",
        "model.add(InputLayer(input_shape=(224*224*3,)))\n",
        "model.add(Dense(100, activation='sigmoid'))\n",
        "model.add(Dense(100, activation='sigmoid'))\n",
        "model.add(Dense(units=1, activation='sigmoid'))"
      ],
      "execution_count": null,
      "outputs": []
    },
    {
      "cell_type": "code",
      "metadata": {
        "id": "dOlWzI-TqLWi",
        "colab_type": "code",
        "colab": {}
      },
      "source": [
        "# Importing the adam optimizers from keras optimizer model\n",
        "from keras.optimizers import Adam\n",
        "# Defining the adam optimezer and setting the learning rate 10^-5 and adding clip value to clip the gradients\n",
        "# Clip is the gradients value\n",
        "adam = Adam(lr=1e-5, clipvalue=1)"
      ],
      "execution_count": null,
      "outputs": []
    },
    {
      "cell_type": "code",
      "metadata": {
        "id": "m-VboAZYqO2w",
        "colab_type": "code",
        "colab": {}
      },
      "source": [
        "# Compling the model\n",
        "model.compile(loss='binary_crossentropy', optimizer=adam, metrics=['accuracy'])"
      ],
      "execution_count": null,
      "outputs": []
    },
    {
      "cell_type": "markdown",
      "metadata": {
        "id": "_sIUCrmuqfmE",
        "colab_type": "text"
      },
      "source": [
        "# **Training the model**"
      ]
    },
    {
      "cell_type": "code",
      "metadata": {
        "id": "bAe8YoWCqiHL",
        "colab_type": "code",
        "colab": {
          "base_uri": "https://localhost:8080/",
          "height": 1000
        },
        "outputId": "7d25ae38-3f2b-484a-f727-6a51f55413b7"
      },
      "source": [
        "# Training the model fro 100 epochs\n",
        "\n",
        "model_history = model.fit(X_train, y_train, epochs=100, batch_size=128, validation_data=(X_valid, y_valid))"
      ],
      "execution_count": null,
      "outputs": [
        {
          "output_type": "stream",
          "text": [
            "Epoch 1/100\n",
            "67/67 [==============================] - 2s 37ms/step - loss: 0.6968 - accuracy: 0.4978 - val_loss: 0.6966 - val_accuracy: 0.4843\n",
            "Epoch 2/100\n",
            "67/67 [==============================] - 2s 31ms/step - loss: 0.6943 - accuracy: 0.4978 - val_loss: 0.6946 - val_accuracy: 0.4843\n",
            "Epoch 3/100\n",
            "67/67 [==============================] - 2s 32ms/step - loss: 0.6935 - accuracy: 0.4978 - val_loss: 0.6936 - val_accuracy: 0.4843\n",
            "Epoch 4/100\n",
            "67/67 [==============================] - 2s 31ms/step - loss: 0.6932 - accuracy: 0.4981 - val_loss: 0.6932 - val_accuracy: 0.4846\n",
            "Epoch 5/100\n",
            "67/67 [==============================] - 2s 31ms/step - loss: 0.6932 - accuracy: 0.4939 - val_loss: 0.6931 - val_accuracy: 0.4846\n",
            "Epoch 6/100\n",
            "67/67 [==============================] - 2s 31ms/step - loss: 0.6931 - accuracy: 0.4958 - val_loss: 0.6931 - val_accuracy: 0.5160\n",
            "Epoch 7/100\n",
            "67/67 [==============================] - 2s 31ms/step - loss: 0.6931 - accuracy: 0.4985 - val_loss: 0.6930 - val_accuracy: 0.5160\n",
            "Epoch 8/100\n",
            "67/67 [==============================] - 2s 30ms/step - loss: 0.6931 - accuracy: 0.5030 - val_loss: 0.6930 - val_accuracy: 0.5160\n",
            "Epoch 9/100\n",
            "67/67 [==============================] - 2s 31ms/step - loss: 0.6931 - accuracy: 0.5030 - val_loss: 0.6930 - val_accuracy: 0.5160\n",
            "Epoch 10/100\n",
            "67/67 [==============================] - 2s 32ms/step - loss: 0.6931 - accuracy: 0.5030 - val_loss: 0.6930 - val_accuracy: 0.5160\n",
            "Epoch 11/100\n",
            "67/67 [==============================] - 2s 31ms/step - loss: 0.6931 - accuracy: 0.5030 - val_loss: 0.6930 - val_accuracy: 0.5160\n",
            "Epoch 12/100\n",
            "67/67 [==============================] - 2s 31ms/step - loss: 0.6931 - accuracy: 0.5030 - val_loss: 0.6931 - val_accuracy: 0.5160\n",
            "Epoch 13/100\n",
            "67/67 [==============================] - 2s 31ms/step - loss: 0.6931 - accuracy: 0.5030 - val_loss: 0.6931 - val_accuracy: 0.5160\n",
            "Epoch 14/100\n",
            "67/67 [==============================] - 2s 31ms/step - loss: 0.6931 - accuracy: 0.5030 - val_loss: 0.6931 - val_accuracy: 0.5160\n",
            "Epoch 15/100\n",
            "67/67 [==============================] - 2s 31ms/step - loss: 0.6931 - accuracy: 0.5031 - val_loss: 0.6930 - val_accuracy: 0.5160\n",
            "Epoch 16/100\n",
            "67/67 [==============================] - 2s 31ms/step - loss: 0.6931 - accuracy: 0.5030 - val_loss: 0.6930 - val_accuracy: 0.5160\n",
            "Epoch 17/100\n",
            "67/67 [==============================] - 2s 31ms/step - loss: 0.6932 - accuracy: 0.5030 - val_loss: 0.6930 - val_accuracy: 0.5160\n",
            "Epoch 18/100\n",
            "67/67 [==============================] - 2s 31ms/step - loss: 0.6932 - accuracy: 0.5031 - val_loss: 0.6930 - val_accuracy: 0.5160\n",
            "Epoch 19/100\n",
            "67/67 [==============================] - 2s 32ms/step - loss: 0.6931 - accuracy: 0.5030 - val_loss: 0.6930 - val_accuracy: 0.5160\n",
            "Epoch 20/100\n",
            "67/67 [==============================] - 2s 31ms/step - loss: 0.6931 - accuracy: 0.5030 - val_loss: 0.6930 - val_accuracy: 0.5160\n",
            "Epoch 21/100\n",
            "67/67 [==============================] - 2s 31ms/step - loss: 0.6931 - accuracy: 0.4969 - val_loss: 0.6930 - val_accuracy: 0.5160\n",
            "Epoch 22/100\n",
            "67/67 [==============================] - 2s 30ms/step - loss: 0.6932 - accuracy: 0.5031 - val_loss: 0.6929 - val_accuracy: 0.5160\n",
            "Epoch 23/100\n",
            "67/67 [==============================] - 2s 30ms/step - loss: 0.6932 - accuracy: 0.5031 - val_loss: 0.6930 - val_accuracy: 0.5160\n",
            "Epoch 24/100\n",
            "67/67 [==============================] - 2s 31ms/step - loss: 0.6932 - accuracy: 0.5030 - val_loss: 0.6930 - val_accuracy: 0.5160\n",
            "Epoch 25/100\n",
            "67/67 [==============================] - 2s 31ms/step - loss: 0.6931 - accuracy: 0.5030 - val_loss: 0.6930 - val_accuracy: 0.5160\n",
            "Epoch 26/100\n",
            "67/67 [==============================] - 2s 31ms/step - loss: 0.6932 - accuracy: 0.5030 - val_loss: 0.6930 - val_accuracy: 0.5160\n",
            "Epoch 27/100\n",
            "67/67 [==============================] - 2s 31ms/step - loss: 0.6932 - accuracy: 0.4920 - val_loss: 0.6931 - val_accuracy: 0.5160\n",
            "Epoch 28/100\n",
            "67/67 [==============================] - 2s 32ms/step - loss: 0.6931 - accuracy: 0.4947 - val_loss: 0.6929 - val_accuracy: 0.5160\n",
            "Epoch 29/100\n",
            "67/67 [==============================] - 2s 31ms/step - loss: 0.6931 - accuracy: 0.5030 - val_loss: 0.6930 - val_accuracy: 0.5160\n",
            "Epoch 30/100\n",
            "67/67 [==============================] - 2s 31ms/step - loss: 0.6931 - accuracy: 0.5030 - val_loss: 0.6930 - val_accuracy: 0.5160\n",
            "Epoch 31/100\n",
            "67/67 [==============================] - 2s 29ms/step - loss: 0.6932 - accuracy: 0.5030 - val_loss: 0.6930 - val_accuracy: 0.5160\n",
            "Epoch 32/100\n",
            "67/67 [==============================] - 2s 30ms/step - loss: 0.6931 - accuracy: 0.4968 - val_loss: 0.6930 - val_accuracy: 0.5160\n",
            "Epoch 33/100\n",
            "67/67 [==============================] - 2s 31ms/step - loss: 0.6931 - accuracy: 0.5030 - val_loss: 0.6930 - val_accuracy: 0.5160\n",
            "Epoch 34/100\n",
            "67/67 [==============================] - 2s 31ms/step - loss: 0.6931 - accuracy: 0.5030 - val_loss: 0.6930 - val_accuracy: 0.5160\n",
            "Epoch 35/100\n",
            "67/67 [==============================] - 2s 32ms/step - loss: 0.6931 - accuracy: 0.5030 - val_loss: 0.6930 - val_accuracy: 0.5160\n",
            "Epoch 36/100\n",
            "67/67 [==============================] - 2s 31ms/step - loss: 0.6931 - accuracy: 0.5030 - val_loss: 0.6931 - val_accuracy: 0.5160\n",
            "Epoch 37/100\n",
            "67/67 [==============================] - 2s 31ms/step - loss: 0.6931 - accuracy: 0.5030 - val_loss: 0.6930 - val_accuracy: 0.5160\n",
            "Epoch 38/100\n",
            "67/67 [==============================] - 2s 31ms/step - loss: 0.6931 - accuracy: 0.5030 - val_loss: 0.6930 - val_accuracy: 0.5160\n",
            "Epoch 39/100\n",
            "67/67 [==============================] - 2s 31ms/step - loss: 0.6932 - accuracy: 0.5030 - val_loss: 0.6929 - val_accuracy: 0.5160\n",
            "Epoch 40/100\n",
            "67/67 [==============================] - 2s 31ms/step - loss: 0.6931 - accuracy: 0.5030 - val_loss: 0.6930 - val_accuracy: 0.5160\n",
            "Epoch 41/100\n",
            "67/67 [==============================] - 2s 31ms/step - loss: 0.6931 - accuracy: 0.4956 - val_loss: 0.6930 - val_accuracy: 0.5160\n",
            "Epoch 42/100\n",
            "67/67 [==============================] - 2s 31ms/step - loss: 0.6931 - accuracy: 0.5030 - val_loss: 0.6930 - val_accuracy: 0.5160\n",
            "Epoch 43/100\n",
            "67/67 [==============================] - 2s 31ms/step - loss: 0.6931 - accuracy: 0.5030 - val_loss: 0.6930 - val_accuracy: 0.5160\n",
            "Epoch 44/100\n",
            "67/67 [==============================] - 2s 32ms/step - loss: 0.6931 - accuracy: 0.5030 - val_loss: 0.6931 - val_accuracy: 0.5160\n",
            "Epoch 45/100\n",
            "67/67 [==============================] - 2s 31ms/step - loss: 0.6932 - accuracy: 0.5030 - val_loss: 0.6930 - val_accuracy: 0.5160\n",
            "Epoch 46/100\n",
            "67/67 [==============================] - 2s 31ms/step - loss: 0.6931 - accuracy: 0.4981 - val_loss: 0.6930 - val_accuracy: 0.5160\n",
            "Epoch 47/100\n",
            "67/67 [==============================] - 2s 31ms/step - loss: 0.6931 - accuracy: 0.5030 - val_loss: 0.6930 - val_accuracy: 0.5160\n",
            "Epoch 48/100\n",
            "67/67 [==============================] - 2s 31ms/step - loss: 0.6932 - accuracy: 0.5030 - val_loss: 0.6929 - val_accuracy: 0.5160\n",
            "Epoch 49/100\n",
            "67/67 [==============================] - 2s 31ms/step - loss: 0.6931 - accuracy: 0.5030 - val_loss: 0.6931 - val_accuracy: 0.5160\n",
            "Epoch 50/100\n",
            "67/67 [==============================] - 2s 31ms/step - loss: 0.6931 - accuracy: 0.5030 - val_loss: 0.6931 - val_accuracy: 0.5160\n",
            "Epoch 51/100\n",
            "67/67 [==============================] - 2s 31ms/step - loss: 0.6932 - accuracy: 0.4937 - val_loss: 0.6930 - val_accuracy: 0.5160\n",
            "Epoch 52/100\n",
            "67/67 [==============================] - 2s 32ms/step - loss: 0.6931 - accuracy: 0.5030 - val_loss: 0.6930 - val_accuracy: 0.5160\n",
            "Epoch 53/100\n",
            "67/67 [==============================] - 2s 31ms/step - loss: 0.6931 - accuracy: 0.5031 - val_loss: 0.6930 - val_accuracy: 0.5160\n",
            "Epoch 54/100\n",
            "67/67 [==============================] - 2s 31ms/step - loss: 0.6931 - accuracy: 0.5030 - val_loss: 0.6930 - val_accuracy: 0.5160\n",
            "Epoch 55/100\n",
            "67/67 [==============================] - 2s 31ms/step - loss: 0.6931 - accuracy: 0.5030 - val_loss: 0.6931 - val_accuracy: 0.5160\n",
            "Epoch 56/100\n",
            "67/67 [==============================] - 2s 31ms/step - loss: 0.6931 - accuracy: 0.5030 - val_loss: 0.6930 - val_accuracy: 0.5160\n",
            "Epoch 57/100\n",
            "67/67 [==============================] - 2s 32ms/step - loss: 0.6931 - accuracy: 0.4996 - val_loss: 0.6930 - val_accuracy: 0.5160\n",
            "Epoch 58/100\n",
            "67/67 [==============================] - 2s 31ms/step - loss: 0.6931 - accuracy: 0.5030 - val_loss: 0.6930 - val_accuracy: 0.5160\n",
            "Epoch 59/100\n",
            "67/67 [==============================] - 2s 32ms/step - loss: 0.6932 - accuracy: 0.5030 - val_loss: 0.6930 - val_accuracy: 0.5160\n",
            "Epoch 60/100\n",
            "67/67 [==============================] - 2s 32ms/step - loss: 0.6931 - accuracy: 0.5030 - val_loss: 0.6930 - val_accuracy: 0.5160\n",
            "Epoch 61/100\n",
            "67/67 [==============================] - 2s 32ms/step - loss: 0.6931 - accuracy: 0.5030 - val_loss: 0.6930 - val_accuracy: 0.5160\n",
            "Epoch 62/100\n",
            "67/67 [==============================] - 2s 31ms/step - loss: 0.6931 - accuracy: 0.5030 - val_loss: 0.6930 - val_accuracy: 0.5160\n",
            "Epoch 63/100\n",
            "67/67 [==============================] - 2s 32ms/step - loss: 0.6932 - accuracy: 0.4937 - val_loss: 0.6930 - val_accuracy: 0.5160\n",
            "Epoch 64/100\n",
            "67/67 [==============================] - 2s 32ms/step - loss: 0.6931 - accuracy: 0.4980 - val_loss: 0.6930 - val_accuracy: 0.5160\n",
            "Epoch 65/100\n",
            "67/67 [==============================] - 2s 32ms/step - loss: 0.6931 - accuracy: 0.5030 - val_loss: 0.6929 - val_accuracy: 0.5160\n",
            "Epoch 66/100\n",
            "67/67 [==============================] - 2s 31ms/step - loss: 0.6931 - accuracy: 0.5030 - val_loss: 0.6930 - val_accuracy: 0.5160\n",
            "Epoch 67/100\n",
            "67/67 [==============================] - 2s 31ms/step - loss: 0.6931 - accuracy: 0.5030 - val_loss: 0.6930 - val_accuracy: 0.5160\n",
            "Epoch 68/100\n",
            "67/67 [==============================] - 2s 31ms/step - loss: 0.6931 - accuracy: 0.5030 - val_loss: 0.6930 - val_accuracy: 0.5160\n",
            "Epoch 69/100\n",
            "67/67 [==============================] - 2s 31ms/step - loss: 0.6931 - accuracy: 0.5031 - val_loss: 0.6930 - val_accuracy: 0.5160\n",
            "Epoch 70/100\n",
            "67/67 [==============================] - 2s 32ms/step - loss: 0.6931 - accuracy: 0.5030 - val_loss: 0.6931 - val_accuracy: 0.5157\n",
            "Epoch 71/100\n",
            "67/67 [==============================] - 2s 32ms/step - loss: 0.6931 - accuracy: 0.4964 - val_loss: 0.6930 - val_accuracy: 0.5160\n",
            "Epoch 72/100\n",
            "67/67 [==============================] - 2s 33ms/step - loss: 0.6931 - accuracy: 0.5031 - val_loss: 0.6930 - val_accuracy: 0.5160\n",
            "Epoch 73/100\n",
            "67/67 [==============================] - 2s 33ms/step - loss: 0.6931 - accuracy: 0.5030 - val_loss: 0.6930 - val_accuracy: 0.5160\n",
            "Epoch 74/100\n",
            "67/67 [==============================] - 2s 31ms/step - loss: 0.6931 - accuracy: 0.5030 - val_loss: 0.6930 - val_accuracy: 0.5160\n",
            "Epoch 75/100\n",
            "67/67 [==============================] - 2s 31ms/step - loss: 0.6931 - accuracy: 0.5030 - val_loss: 0.6930 - val_accuracy: 0.5160\n",
            "Epoch 76/100\n",
            "67/67 [==============================] - 2s 31ms/step - loss: 0.6931 - accuracy: 0.5030 - val_loss: 0.6930 - val_accuracy: 0.5160\n",
            "Epoch 77/100\n",
            "67/67 [==============================] - 2s 31ms/step - loss: 0.6931 - accuracy: 0.5030 - val_loss: 0.6931 - val_accuracy: 0.5160\n",
            "Epoch 78/100\n",
            "67/67 [==============================] - 2s 31ms/step - loss: 0.6931 - accuracy: 0.4998 - val_loss: 0.6930 - val_accuracy: 0.5160\n",
            "Epoch 79/100\n",
            "67/67 [==============================] - 2s 32ms/step - loss: 0.6931 - accuracy: 0.5030 - val_loss: 0.6931 - val_accuracy: 0.5160\n",
            "Epoch 80/100\n",
            "67/67 [==============================] - 2s 31ms/step - loss: 0.6931 - accuracy: 0.5030 - val_loss: 0.6930 - val_accuracy: 0.5160\n",
            "Epoch 81/100\n",
            "67/67 [==============================] - 2s 30ms/step - loss: 0.6931 - accuracy: 0.5030 - val_loss: 0.6930 - val_accuracy: 0.5160\n",
            "Epoch 82/100\n",
            "67/67 [==============================] - 2s 30ms/step - loss: 0.6932 - accuracy: 0.4939 - val_loss: 0.6930 - val_accuracy: 0.5160\n",
            "Epoch 83/100\n",
            "67/67 [==============================] - 2s 32ms/step - loss: 0.6931 - accuracy: 0.5030 - val_loss: 0.6930 - val_accuracy: 0.5160\n",
            "Epoch 84/100\n",
            "67/67 [==============================] - 2s 31ms/step - loss: 0.6931 - accuracy: 0.5030 - val_loss: 0.6930 - val_accuracy: 0.5160\n",
            "Epoch 85/100\n",
            "67/67 [==============================] - 2s 31ms/step - loss: 0.6931 - accuracy: 0.5030 - val_loss: 0.6930 - val_accuracy: 0.5160\n",
            "Epoch 86/100\n",
            "67/67 [==============================] - 2s 31ms/step - loss: 0.6931 - accuracy: 0.5030 - val_loss: 0.6930 - val_accuracy: 0.5160\n",
            "Epoch 87/100\n",
            "67/67 [==============================] - 2s 31ms/step - loss: 0.6931 - accuracy: 0.5030 - val_loss: 0.6930 - val_accuracy: 0.5160\n",
            "Epoch 88/100\n",
            "67/67 [==============================] - 2s 32ms/step - loss: 0.6931 - accuracy: 0.5030 - val_loss: 0.6931 - val_accuracy: 0.5160\n",
            "Epoch 89/100\n",
            "67/67 [==============================] - 2s 32ms/step - loss: 0.6931 - accuracy: 0.5030 - val_loss: 0.6930 - val_accuracy: 0.5160\n",
            "Epoch 90/100\n",
            "67/67 [==============================] - 2s 31ms/step - loss: 0.6931 - accuracy: 0.5030 - val_loss: 0.6931 - val_accuracy: 0.5160\n",
            "Epoch 91/100\n",
            "67/67 [==============================] - 2s 31ms/step - loss: 0.6932 - accuracy: 0.5030 - val_loss: 0.6931 - val_accuracy: 0.5160\n",
            "Epoch 92/100\n",
            "67/67 [==============================] - 2s 31ms/step - loss: 0.6931 - accuracy: 0.5031 - val_loss: 0.6931 - val_accuracy: 0.5157\n",
            "Epoch 93/100\n",
            "67/67 [==============================] - 2s 31ms/step - loss: 0.6931 - accuracy: 0.5030 - val_loss: 0.6930 - val_accuracy: 0.5160\n",
            "Epoch 94/100\n",
            "67/67 [==============================] - 2s 32ms/step - loss: 0.6931 - accuracy: 0.5030 - val_loss: 0.6930 - val_accuracy: 0.5160\n",
            "Epoch 95/100\n",
            "67/67 [==============================] - 2s 31ms/step - loss: 0.6931 - accuracy: 0.5030 - val_loss: 0.6931 - val_accuracy: 0.5160\n",
            "Epoch 96/100\n",
            "67/67 [==============================] - 2s 32ms/step - loss: 0.6931 - accuracy: 0.5030 - val_loss: 0.6930 - val_accuracy: 0.5160\n",
            "Epoch 97/100\n",
            "67/67 [==============================] - 2s 31ms/step - loss: 0.6931 - accuracy: 0.5030 - val_loss: 0.6930 - val_accuracy: 0.5160\n",
            "Epoch 98/100\n",
            "67/67 [==============================] - 2s 31ms/step - loss: 0.6932 - accuracy: 0.4950 - val_loss: 0.6930 - val_accuracy: 0.5160\n",
            "Epoch 99/100\n",
            "67/67 [==============================] - 2s 31ms/step - loss: 0.6931 - accuracy: 0.5030 - val_loss: 0.6930 - val_accuracy: 0.5160\n",
            "Epoch 100/100\n",
            "67/67 [==============================] - 2s 31ms/step - loss: 0.6931 - accuracy: 0.5030 - val_loss: 0.6930 - val_accuracy: 0.5160\n"
          ],
          "name": "stdout"
        }
      ]
    },
    {
      "cell_type": "code",
      "metadata": {
        "id": "i6mVkbhdrmDZ",
        "colab_type": "code",
        "colab": {
          "base_uri": "https://localhost:8080/",
          "height": 35
        },
        "outputId": "1c10b2fa-a086-458b-fcc5-9fbcff93f841"
      },
      "source": [
        "# Accuracy on validation set\n",
        "from sklearn.metrics import accuracy_score\n",
        "print('Accuracy on validation set:', accuracy_score(y_valid, model.predict_classes(X_valid)[:,0]), '%')"
      ],
      "execution_count": null,
      "outputs": [
        {
          "output_type": "stream",
          "text": [
            "Accuracy on validation set: 0.5159879748565182 %\n"
          ],
          "name": "stdout"
        }
      ]
    },
    {
      "cell_type": "code",
      "metadata": {
        "id": "xh-LxNtwrr1K",
        "colab_type": "code",
        "colab": {
          "base_uri": "https://localhost:8080/",
          "height": 295
        },
        "outputId": "faf929fc-c83e-4b28-9619-b864f468b7de"
      },
      "source": [
        "# Summarize history for loss\n",
        "plt.plot(model_history.history['loss'])\n",
        "plt.plot(model_history.history['val_loss'])\n",
        "plt.title('model loss')\n",
        "plt.ylabel('loss')\n",
        "plt.xlabel('epoch')\n",
        "plt.legend(['train', 'validation'], loc = 'upper left')\n",
        "plt.show()"
      ],
      "execution_count": null,
      "outputs": [
        {
          "output_type": "display_data",
          "data": {
            "image/png": "[encoded data removed]",
            "text/plain": [
              "<Figure size 432x288 with 1 Axes>"
            ]
          },
          "metadata": {
            "tags": [],
            "needs_background": "light"
          }
        }
      ]
    },
    {
      "cell_type": "code",
      "metadata": {
        "id": "0IybjO0yr413",
        "colab_type": "code",
        "colab": {
          "base_uri": "https://localhost:8080/",
          "height": 295
        },
        "outputId": "b58b10f2-f3ce-4b8d-fd1f-98faa3e26180"
      },
      "source": [
        "# Summarize history for accuracy\n",
        "plt.plot(model_history.history['accuracy'])\n",
        "plt.plot(model_history.history['val_accuracy'])\n",
        "plt.title('model accuracy')\n",
        "plt.ylabel('accuracy')\n",
        "plt.xlabel('epoch')\n",
        "plt.legend(['train', 'validation'], loc = 'upper left')\n",
        "plt.show()"
      ],
      "execution_count": null,
      "outputs": [
        {
          "output_type": "display_data",
          "data": {
            "image/png": "[encoded data removed]",
            "text/plain": [
              "<Figure size 432x288 with 1 Axes>"
            ]
          },
          "metadata": {
            "tags": [],
            "needs_background": "light"
          }
        }
      ]
    },
    {
      "cell_type": "markdown",
      "metadata": {
        "id": "o5Ia3RNztLp-",
        "colab_type": "text"
      },
      "source": [
        "# **Setting up Different weight Initialization Technique**"
      ]
    },
    {
      "cell_type": "code",
      "metadata": {
        "id": "vZSKvYQJtPFa",
        "colab_type": "code",
        "colab": {}
      },
      "source": [
        "# Importing Different Initialization technique\n",
        "from keras.initializers import random_normal, glorot_normal, he_normal"
      ],
      "execution_count": null,
      "outputs": []
    },
    {
      "cell_type": "code",
      "metadata": {
        "id": "ZJ1gPnHvtxeK",
        "colab_type": "code",
        "colab": {}
      },
      "source": [
        "# Defining the model architecture\n",
        "model = Sequential()\n",
        "model.add(InputLayer(input_shape=(224*224*3,)))\n",
        "model.add(Dense(100, activation='sigmoid', kernel_initializer=random_normal(mean=0, stddev=0.05, seed=seed)))\n",
        "model.add(Dense(100, activation='sigmoid', kernel_initializer=random_normal(mean=0, stddev=0.05, seed=seed)))\n",
        "model.add(Dense(units=1, activation='sigmoid',  kernel_initializer=random_normal(mean=0, stddev=0.05, seed=seed)))\n"
      ],
      "execution_count": null,
      "outputs": []
    },
    {
      "cell_type": "code",
      "metadata": {
        "id": "8aNXhvsWt7H1",
        "colab_type": "code",
        "colab": {}
      },
      "source": [
        "# Importing the adam optimizers from keras optimizer model\n",
        "from keras.optimizers import Adam\n",
        "# Defining the adam optimezer and setting the learning rate 10^-5\n",
        "# Clip is the gradients value\n",
        "adam = Adam(lr=1e-5)"
      ],
      "execution_count": null,
      "outputs": []
    },
    {
      "cell_type": "code",
      "metadata": {
        "id": "LfwQmAZmt9Nw",
        "colab_type": "code",
        "colab": {}
      },
      "source": [
        "# Compling the model\n",
        "model.compile(loss='binary_crossentropy', optimizer=adam, metrics=['accuracy'])"
      ],
      "execution_count": null,
      "outputs": []
    },
    {
      "cell_type": "code",
      "metadata": {
        "id": "SwoY_7HLuEeM",
        "colab_type": "code",
        "colab": {
          "base_uri": "https://localhost:8080/",
          "height": 1000
        },
        "outputId": "0240b3b0-3451-4da7-c55e-64cba4c1b827"
      },
      "source": [
        "# Training the model fro 50 epochs\n",
        "\n",
        "model_history = model.fit(X_train, y_train, epochs=200, batch_size=128, validation_data=(X_valid, y_valid))"
      ],
      "execution_count": null,
      "outputs": [
        {
          "output_type": "stream",
          "text": [
            "Epoch 1/200\n",
            "67/67 [==============================] - 2s 33ms/step - loss: 0.6923 - accuracy: 0.5061 - val_loss: 0.6918 - val_accuracy: 0.5346\n",
            "Epoch 2/200\n",
            "67/67 [==============================] - 2s 29ms/step - loss: 0.6914 - accuracy: 0.5744 - val_loss: 0.6909 - val_accuracy: 0.6026\n",
            "Epoch 3/200\n",
            "67/67 [==============================] - 2s 29ms/step - loss: 0.6907 - accuracy: 0.6108 - val_loss: 0.6905 - val_accuracy: 0.6193\n",
            "Epoch 4/200\n",
            "67/67 [==============================] - 2s 30ms/step - loss: 0.6907 - accuracy: 0.5951 - val_loss: 0.6907 - val_accuracy: 0.6133\n",
            "Epoch 5/200\n",
            "67/67 [==============================] - 2s 30ms/step - loss: 0.6904 - accuracy: 0.6307 - val_loss: 0.6900 - val_accuracy: 0.6403\n",
            "Epoch 6/200\n",
            "67/67 [==============================] - 2s 30ms/step - loss: 0.6897 - accuracy: 0.6338 - val_loss: 0.6895 - val_accuracy: 0.6218\n",
            "Epoch 7/200\n",
            "67/67 [==============================] - 2s 30ms/step - loss: 0.6899 - accuracy: 0.5544 - val_loss: 0.6893 - val_accuracy: 0.5797\n",
            "Epoch 8/200\n",
            "67/67 [==============================] - 2s 29ms/step - loss: 0.6902 - accuracy: 0.5350 - val_loss: 0.6899 - val_accuracy: 0.5354\n",
            "Epoch 9/200\n",
            "67/67 [==============================] - 2s 29ms/step - loss: 0.6902 - accuracy: 0.5476 - val_loss: 0.6893 - val_accuracy: 0.5808\n",
            "Epoch 10/200\n",
            "67/67 [==============================] - 2s 30ms/step - loss: 0.6891 - accuracy: 0.6335 - val_loss: 0.6892 - val_accuracy: 0.6600\n",
            "Epoch 11/200\n",
            "67/67 [==============================] - 2s 30ms/step - loss: 0.6890 - accuracy: 0.6334 - val_loss: 0.6882 - val_accuracy: 0.6521\n",
            "Epoch 12/200\n",
            "67/67 [==============================] - 2s 30ms/step - loss: 0.6887 - accuracy: 0.5965 - val_loss: 0.6883 - val_accuracy: 0.5917\n",
            "Epoch 13/200\n",
            "67/67 [==============================] - 2s 30ms/step - loss: 0.6882 - accuracy: 0.6205 - val_loss: 0.6877 - val_accuracy: 0.6007\n",
            "Epoch 14/200\n",
            "67/67 [==============================] - 2s 30ms/step - loss: 0.6864 - accuracy: 0.6559 - val_loss: 0.6862 - val_accuracy: 0.6614\n",
            "Epoch 15/200\n",
            "67/67 [==============================] - 2s 30ms/step - loss: 0.6858 - accuracy: 0.6699 - val_loss: 0.6856 - val_accuracy: 0.6704\n",
            "Epoch 16/200\n",
            "67/67 [==============================] - 2s 30ms/step - loss: 0.6853 - accuracy: 0.6718 - val_loss: 0.6857 - val_accuracy: 0.6617\n",
            "Epoch 17/200\n",
            "67/67 [==============================] - 2s 30ms/step - loss: 0.6852 - accuracy: 0.6679 - val_loss: 0.6858 - val_accuracy: 0.6688\n",
            "Epoch 18/200\n",
            "67/67 [==============================] - 2s 29ms/step - loss: 0.6853 - accuracy: 0.6732 - val_loss: 0.6870 - val_accuracy: 0.6521\n",
            "Epoch 19/200\n",
            "67/67 [==============================] - 2s 29ms/step - loss: 0.6863 - accuracy: 0.6600 - val_loss: 0.6844 - val_accuracy: 0.6783\n",
            "Epoch 20/200\n",
            "67/67 [==============================] - 2s 31ms/step - loss: 0.6842 - accuracy: 0.6607 - val_loss: 0.6853 - val_accuracy: 0.6395\n",
            "Epoch 21/200\n",
            "67/67 [==============================] - 2s 31ms/step - loss: 0.6849 - accuracy: 0.6662 - val_loss: 0.6854 - val_accuracy: 0.6726\n",
            "Epoch 22/200\n",
            "67/67 [==============================] - 2s 31ms/step - loss: 0.6847 - accuracy: 0.6738 - val_loss: 0.6843 - val_accuracy: 0.6668\n",
            "Epoch 23/200\n",
            "67/67 [==============================] - 2s 30ms/step - loss: 0.6848 - accuracy: 0.6597 - val_loss: 0.6859 - val_accuracy: 0.6679\n",
            "Epoch 24/200\n",
            "67/67 [==============================] - 2s 30ms/step - loss: 0.6850 - accuracy: 0.6646 - val_loss: 0.6844 - val_accuracy: 0.6742\n",
            "Epoch 25/200\n",
            "67/67 [==============================] - 2s 30ms/step - loss: 0.6833 - accuracy: 0.6609 - val_loss: 0.6827 - val_accuracy: 0.6734\n",
            "Epoch 26/200\n",
            "67/67 [==============================] - 2s 30ms/step - loss: 0.6813 - accuracy: 0.6822 - val_loss: 0.6801 - val_accuracy: 0.6802\n",
            "Epoch 27/200\n",
            "67/67 [==============================] - 2s 30ms/step - loss: 0.6808 - accuracy: 0.6679 - val_loss: 0.6830 - val_accuracy: 0.6731\n",
            "Epoch 28/200\n",
            "67/67 [==============================] - 2s 30ms/step - loss: 0.6820 - accuracy: 0.6665 - val_loss: 0.6808 - val_accuracy: 0.6838\n",
            "Epoch 29/200\n",
            "67/67 [==============================] - 2s 29ms/step - loss: 0.6817 - accuracy: 0.6591 - val_loss: 0.6823 - val_accuracy: 0.6720\n",
            "Epoch 30/200\n",
            "67/67 [==============================] - 2s 30ms/step - loss: 0.6808 - accuracy: 0.6760 - val_loss: 0.6819 - val_accuracy: 0.6745\n",
            "Epoch 31/200\n",
            "67/67 [==============================] - 2s 29ms/step - loss: 0.6822 - accuracy: 0.6713 - val_loss: 0.6801 - val_accuracy: 0.6797\n",
            "Epoch 32/200\n",
            "67/67 [==============================] - 2s 30ms/step - loss: 0.6781 - accuracy: 0.6848 - val_loss: 0.6770 - val_accuracy: 0.6887\n",
            "Epoch 33/200\n",
            "67/67 [==============================] - 2s 29ms/step - loss: 0.6751 - accuracy: 0.6835 - val_loss: 0.6750 - val_accuracy: 0.6873\n",
            "Epoch 34/200\n",
            "67/67 [==============================] - 2s 30ms/step - loss: 0.6755 - accuracy: 0.6952 - val_loss: 0.6744 - val_accuracy: 0.6827\n",
            "Epoch 35/200\n",
            "67/67 [==============================] - 2s 30ms/step - loss: 0.6745 - accuracy: 0.6854 - val_loss: 0.6759 - val_accuracy: 0.6761\n",
            "Epoch 36/200\n",
            "67/67 [==============================] - 2s 30ms/step - loss: 0.6739 - accuracy: 0.6824 - val_loss: 0.6757 - val_accuracy: 0.6737\n",
            "Epoch 37/200\n",
            "67/67 [==============================] - 2s 30ms/step - loss: 0.6726 - accuracy: 0.6853 - val_loss: 0.6702 - val_accuracy: 0.6980\n",
            "Epoch 38/200\n",
            "67/67 [==============================] - 2s 30ms/step - loss: 0.6723 - accuracy: 0.7026 - val_loss: 0.6708 - val_accuracy: 0.6953\n",
            "Epoch 39/200\n",
            "67/67 [==============================] - 2s 30ms/step - loss: 0.6706 - accuracy: 0.6902 - val_loss: 0.6718 - val_accuracy: 0.6688\n",
            "Epoch 40/200\n",
            "67/67 [==============================] - 2s 30ms/step - loss: 0.6704 - accuracy: 0.6792 - val_loss: 0.6707 - val_accuracy: 0.6783\n",
            "Epoch 41/200\n",
            "67/67 [==============================] - 2s 30ms/step - loss: 0.6698 - accuracy: 0.6891 - val_loss: 0.6723 - val_accuracy: 0.6923\n",
            "Epoch 42/200\n",
            "67/67 [==============================] - 2s 30ms/step - loss: 0.6717 - accuracy: 0.6884 - val_loss: 0.6713 - val_accuracy: 0.6841\n",
            "Epoch 43/200\n",
            "67/67 [==============================] - 2s 30ms/step - loss: 0.6674 - accuracy: 0.6949 - val_loss: 0.6693 - val_accuracy: 0.6931\n",
            "Epoch 44/200\n",
            "67/67 [==============================] - 2s 30ms/step - loss: 0.6678 - accuracy: 0.6976 - val_loss: 0.6709 - val_accuracy: 0.6893\n",
            "Epoch 45/200\n",
            "67/67 [==============================] - 2s 29ms/step - loss: 0.6702 - accuracy: 0.6827 - val_loss: 0.6705 - val_accuracy: 0.6854\n",
            "Epoch 46/200\n",
            "67/67 [==============================] - 2s 29ms/step - loss: 0.6701 - accuracy: 0.6910 - val_loss: 0.6707 - val_accuracy: 0.6857\n",
            "Epoch 47/200\n",
            "67/67 [==============================] - 2s 30ms/step - loss: 0.6673 - accuracy: 0.6879 - val_loss: 0.6675 - val_accuracy: 0.6830\n",
            "Epoch 48/200\n",
            "67/67 [==============================] - 2s 30ms/step - loss: 0.6660 - accuracy: 0.6897 - val_loss: 0.6660 - val_accuracy: 0.6860\n",
            "Epoch 49/200\n",
            "67/67 [==============================] - 2s 30ms/step - loss: 0.6677 - accuracy: 0.6932 - val_loss: 0.6728 - val_accuracy: 0.6871\n",
            "Epoch 50/200\n",
            "67/67 [==============================] - 2s 30ms/step - loss: 0.6683 - accuracy: 0.6973 - val_loss: 0.6654 - val_accuracy: 0.7078\n",
            "Epoch 51/200\n",
            "67/67 [==============================] - 2s 30ms/step - loss: 0.6634 - accuracy: 0.6991 - val_loss: 0.6643 - val_accuracy: 0.7005\n",
            "Epoch 52/200\n",
            "67/67 [==============================] - 2s 29ms/step - loss: 0.6636 - accuracy: 0.6913 - val_loss: 0.6657 - val_accuracy: 0.6811\n",
            "Epoch 53/200\n",
            "67/67 [==============================] - 2s 30ms/step - loss: 0.6645 - accuracy: 0.6845 - val_loss: 0.6657 - val_accuracy: 0.6863\n",
            "Epoch 54/200\n",
            "67/67 [==============================] - 2s 30ms/step - loss: 0.6655 - accuracy: 0.6968 - val_loss: 0.6644 - val_accuracy: 0.6925\n",
            "Epoch 55/200\n",
            "67/67 [==============================] - 2s 30ms/step - loss: 0.6608 - accuracy: 0.6983 - val_loss: 0.6619 - val_accuracy: 0.6955\n",
            "Epoch 56/200\n",
            "67/67 [==============================] - 2s 30ms/step - loss: 0.6583 - accuracy: 0.6952 - val_loss: 0.6569 - val_accuracy: 0.6983\n",
            "Epoch 57/200\n",
            "67/67 [==============================] - 2s 30ms/step - loss: 0.6556 - accuracy: 0.6985 - val_loss: 0.6563 - val_accuracy: 0.7024\n",
            "Epoch 58/200\n",
            "67/67 [==============================] - 2s 30ms/step - loss: 0.6546 - accuracy: 0.7042 - val_loss: 0.6565 - val_accuracy: 0.7016\n",
            "Epoch 59/200\n",
            "67/67 [==============================] - 2s 31ms/step - loss: 0.6541 - accuracy: 0.7022 - val_loss: 0.6559 - val_accuracy: 0.6975\n",
            "Epoch 60/200\n",
            "67/67 [==============================] - 2s 30ms/step - loss: 0.6548 - accuracy: 0.7031 - val_loss: 0.6584 - val_accuracy: 0.6966\n",
            "Epoch 61/200\n",
            "67/67 [==============================] - 2s 30ms/step - loss: 0.6585 - accuracy: 0.6974 - val_loss: 0.6616 - val_accuracy: 0.7070\n",
            "Epoch 62/200\n",
            "67/67 [==============================] - 2s 30ms/step - loss: 0.6585 - accuracy: 0.7065 - val_loss: 0.6575 - val_accuracy: 0.7092\n",
            "Epoch 63/200\n",
            "67/67 [==============================] - 2s 30ms/step - loss: 0.6566 - accuracy: 0.7028 - val_loss: 0.6560 - val_accuracy: 0.7029\n",
            "Epoch 64/200\n",
            "67/67 [==============================] - 2s 30ms/step - loss: 0.6486 - accuracy: 0.7110 - val_loss: 0.6497 - val_accuracy: 0.7037\n",
            "Epoch 65/200\n",
            "67/67 [==============================] - 2s 29ms/step - loss: 0.6503 - accuracy: 0.7070 - val_loss: 0.6533 - val_accuracy: 0.7057\n",
            "Epoch 66/200\n",
            "67/67 [==============================] - 2s 30ms/step - loss: 0.6519 - accuracy: 0.7028 - val_loss: 0.6527 - val_accuracy: 0.6953\n",
            "Epoch 67/200\n",
            "67/67 [==============================] - 2s 29ms/step - loss: 0.6498 - accuracy: 0.6958 - val_loss: 0.6528 - val_accuracy: 0.6928\n",
            "Epoch 68/200\n",
            "67/67 [==============================] - 2s 30ms/step - loss: 0.6503 - accuracy: 0.7024 - val_loss: 0.6557 - val_accuracy: 0.6988\n",
            "Epoch 69/200\n",
            "67/67 [==============================] - 2s 30ms/step - loss: 0.6510 - accuracy: 0.6987 - val_loss: 0.6513 - val_accuracy: 0.6947\n",
            "Epoch 70/200\n",
            "67/67 [==============================] - 2s 29ms/step - loss: 0.6453 - accuracy: 0.7050 - val_loss: 0.6454 - val_accuracy: 0.7054\n",
            "Epoch 71/200\n",
            "67/67 [==============================] - 2s 30ms/step - loss: 0.6427 - accuracy: 0.7076 - val_loss: 0.6485 - val_accuracy: 0.7046\n",
            "Epoch 72/200\n",
            "67/67 [==============================] - 2s 30ms/step - loss: 0.6460 - accuracy: 0.7075 - val_loss: 0.6454 - val_accuracy: 0.6980\n",
            "Epoch 73/200\n",
            "67/67 [==============================] - 2s 30ms/step - loss: 0.6418 - accuracy: 0.7073 - val_loss: 0.6448 - val_accuracy: 0.7027\n",
            "Epoch 74/200\n",
            "67/67 [==============================] - 2s 30ms/step - loss: 0.6408 - accuracy: 0.7089 - val_loss: 0.6429 - val_accuracy: 0.6753\n",
            "Epoch 75/200\n",
            "67/67 [==============================] - 2s 30ms/step - loss: 0.6419 - accuracy: 0.6974 - val_loss: 0.6429 - val_accuracy: 0.6873\n",
            "Epoch 76/200\n",
            "67/67 [==============================] - 2s 30ms/step - loss: 0.6416 - accuracy: 0.7056 - val_loss: 0.6389 - val_accuracy: 0.6991\n",
            "Epoch 77/200\n",
            "67/67 [==============================] - 2s 30ms/step - loss: 0.6413 - accuracy: 0.7050 - val_loss: 0.6436 - val_accuracy: 0.6928\n",
            "Epoch 78/200\n",
            "67/67 [==============================] - 2s 31ms/step - loss: 0.6384 - accuracy: 0.7050 - val_loss: 0.6402 - val_accuracy: 0.7100\n",
            "Epoch 79/200\n",
            "67/67 [==============================] - 2s 31ms/step - loss: 0.6367 - accuracy: 0.6980 - val_loss: 0.6360 - val_accuracy: 0.6882\n",
            "Epoch 80/200\n",
            "67/67 [==============================] - 2s 31ms/step - loss: 0.6306 - accuracy: 0.7077 - val_loss: 0.6327 - val_accuracy: 0.7204\n",
            "Epoch 81/200\n",
            "67/67 [==============================] - 2s 31ms/step - loss: 0.6352 - accuracy: 0.7141 - val_loss: 0.6406 - val_accuracy: 0.7111\n",
            "Epoch 82/200\n",
            "67/67 [==============================] - 2s 31ms/step - loss: 0.6415 - accuracy: 0.7114 - val_loss: 0.6428 - val_accuracy: 0.7040\n",
            "Epoch 83/200\n",
            "67/67 [==============================] - 2s 31ms/step - loss: 0.6365 - accuracy: 0.7142 - val_loss: 0.6393 - val_accuracy: 0.7098\n",
            "Epoch 84/200\n",
            "67/67 [==============================] - 2s 30ms/step - loss: 0.6342 - accuracy: 0.7195 - val_loss: 0.6360 - val_accuracy: 0.7070\n",
            "Epoch 85/200\n",
            "67/67 [==============================] - 2s 29ms/step - loss: 0.6343 - accuracy: 0.7123 - val_loss: 0.6359 - val_accuracy: 0.7160\n",
            "Epoch 86/200\n",
            "67/67 [==============================] - 2s 30ms/step - loss: 0.6347 - accuracy: 0.7137 - val_loss: 0.6393 - val_accuracy: 0.7051\n",
            "Epoch 87/200\n",
            "67/67 [==============================] - 2s 30ms/step - loss: 0.6339 - accuracy: 0.7140 - val_loss: 0.6323 - val_accuracy: 0.7133\n",
            "Epoch 88/200\n",
            "67/67 [==============================] - 2s 30ms/step - loss: 0.6296 - accuracy: 0.7117 - val_loss: 0.6406 - val_accuracy: 0.6707\n",
            "Epoch 89/200\n",
            "67/67 [==============================] - 2s 30ms/step - loss: 0.6310 - accuracy: 0.7039 - val_loss: 0.6308 - val_accuracy: 0.7108\n",
            "Epoch 90/200\n",
            "67/67 [==============================] - 2s 30ms/step - loss: 0.6291 - accuracy: 0.7123 - val_loss: 0.6311 - val_accuracy: 0.7073\n",
            "Epoch 91/200\n",
            "67/67 [==============================] - 2s 30ms/step - loss: 0.6256 - accuracy: 0.7141 - val_loss: 0.6266 - val_accuracy: 0.7231\n",
            "Epoch 92/200\n",
            "67/67 [==============================] - 2s 30ms/step - loss: 0.6235 - accuracy: 0.7179 - val_loss: 0.6292 - val_accuracy: 0.7139\n",
            "Epoch 93/200\n",
            "67/67 [==============================] - 2s 30ms/step - loss: 0.6187 - accuracy: 0.7203 - val_loss: 0.6213 - val_accuracy: 0.7136\n",
            "Epoch 94/200\n",
            "67/67 [==============================] - 2s 29ms/step - loss: 0.6207 - accuracy: 0.7182 - val_loss: 0.6260 - val_accuracy: 0.7204\n",
            "Epoch 95/200\n",
            "67/67 [==============================] - 2s 29ms/step - loss: 0.6235 - accuracy: 0.7145 - val_loss: 0.6312 - val_accuracy: 0.7018\n",
            "Epoch 96/200\n",
            "67/67 [==============================] - 2s 30ms/step - loss: 0.6239 - accuracy: 0.7136 - val_loss: 0.6236 - val_accuracy: 0.7185\n",
            "Epoch 97/200\n",
            "67/67 [==============================] - 2s 30ms/step - loss: 0.6198 - accuracy: 0.7230 - val_loss: 0.6192 - val_accuracy: 0.7163\n",
            "Epoch 98/200\n",
            "67/67 [==============================] - 2s 30ms/step - loss: 0.6158 - accuracy: 0.7190 - val_loss: 0.6168 - val_accuracy: 0.7155\n",
            "Epoch 99/200\n",
            "67/67 [==============================] - 2s 30ms/step - loss: 0.6208 - accuracy: 0.7117 - val_loss: 0.6179 - val_accuracy: 0.7046\n",
            "Epoch 100/200\n",
            "67/67 [==============================] - 2s 30ms/step - loss: 0.6144 - accuracy: 0.7135 - val_loss: 0.6133 - val_accuracy: 0.7212\n",
            "Epoch 101/200\n",
            "67/67 [==============================] - 2s 30ms/step - loss: 0.6109 - accuracy: 0.7141 - val_loss: 0.6122 - val_accuracy: 0.7117\n",
            "Epoch 102/200\n",
            "67/67 [==============================] - 2s 29ms/step - loss: 0.6130 - accuracy: 0.7162 - val_loss: 0.6175 - val_accuracy: 0.7051\n",
            "Epoch 103/200\n",
            "67/67 [==============================] - 2s 30ms/step - loss: 0.6136 - accuracy: 0.7138 - val_loss: 0.6129 - val_accuracy: 0.7155\n",
            "Epoch 104/200\n",
            "67/67 [==============================] - 2s 29ms/step - loss: 0.6110 - accuracy: 0.7177 - val_loss: 0.6121 - val_accuracy: 0.7152\n",
            "Epoch 105/200\n",
            "67/67 [==============================] - 2s 30ms/step - loss: 0.6103 - accuracy: 0.7132 - val_loss: 0.6152 - val_accuracy: 0.7035\n",
            "Epoch 106/200\n",
            "67/67 [==============================] - 2s 31ms/step - loss: 0.6080 - accuracy: 0.7205 - val_loss: 0.6057 - val_accuracy: 0.7210\n",
            "Epoch 107/200\n",
            "67/67 [==============================] - 2s 30ms/step - loss: 0.6050 - accuracy: 0.7186 - val_loss: 0.6066 - val_accuracy: 0.7215\n",
            "Epoch 108/200\n",
            "67/67 [==============================] - 2s 30ms/step - loss: 0.6095 - accuracy: 0.7196 - val_loss: 0.6132 - val_accuracy: 0.7226\n",
            "Epoch 109/200\n",
            "67/67 [==============================] - 2s 29ms/step - loss: 0.6055 - accuracy: 0.7253 - val_loss: 0.6077 - val_accuracy: 0.7144\n",
            "Epoch 110/200\n",
            "67/67 [==============================] - 2s 30ms/step - loss: 0.6031 - accuracy: 0.7204 - val_loss: 0.6097 - val_accuracy: 0.7201\n",
            "Epoch 111/200\n",
            "67/67 [==============================] - 2s 30ms/step - loss: 0.6035 - accuracy: 0.7232 - val_loss: 0.6060 - val_accuracy: 0.7210\n",
            "Epoch 112/200\n",
            "67/67 [==============================] - 2s 30ms/step - loss: 0.6024 - accuracy: 0.7230 - val_loss: 0.6024 - val_accuracy: 0.7226\n",
            "Epoch 113/200\n",
            "67/67 [==============================] - 2s 30ms/step - loss: 0.6039 - accuracy: 0.7162 - val_loss: 0.6037 - val_accuracy: 0.7005\n",
            "Epoch 114/200\n",
            "67/67 [==============================] - 2s 30ms/step - loss: 0.6068 - accuracy: 0.7173 - val_loss: 0.6076 - val_accuracy: 0.7128\n",
            "Epoch 115/200\n",
            "67/67 [==============================] - 2s 30ms/step - loss: 0.6019 - accuracy: 0.7250 - val_loss: 0.6105 - val_accuracy: 0.7242\n",
            "Epoch 116/200\n",
            "67/67 [==============================] - 2s 30ms/step - loss: 0.6037 - accuracy: 0.7229 - val_loss: 0.6114 - val_accuracy: 0.7089\n",
            "Epoch 117/200\n",
            "67/67 [==============================] - 2s 30ms/step - loss: 0.6032 - accuracy: 0.7192 - val_loss: 0.6032 - val_accuracy: 0.7311\n",
            "Epoch 118/200\n",
            "67/67 [==============================] - 2s 30ms/step - loss: 0.5990 - accuracy: 0.7289 - val_loss: 0.6022 - val_accuracy: 0.7234\n",
            "Epoch 119/200\n",
            "67/67 [==============================] - 2s 30ms/step - loss: 0.6010 - accuracy: 0.7261 - val_loss: 0.6038 - val_accuracy: 0.7188\n",
            "Epoch 120/200\n",
            "67/67 [==============================] - 2s 29ms/step - loss: 0.6013 - accuracy: 0.7253 - val_loss: 0.6031 - val_accuracy: 0.7180\n",
            "Epoch 121/200\n",
            "67/67 [==============================] - 2s 30ms/step - loss: 0.5997 - accuracy: 0.7188 - val_loss: 0.5995 - val_accuracy: 0.7218\n",
            "Epoch 122/200\n",
            "67/67 [==============================] - 2s 30ms/step - loss: 0.5969 - accuracy: 0.7264 - val_loss: 0.5975 - val_accuracy: 0.7190\n",
            "Epoch 123/200\n",
            "67/67 [==============================] - 2s 30ms/step - loss: 0.5956 - accuracy: 0.7222 - val_loss: 0.5976 - val_accuracy: 0.7226\n",
            "Epoch 124/200\n",
            "67/67 [==============================] - 2s 30ms/step - loss: 0.5923 - accuracy: 0.7278 - val_loss: 0.5951 - val_accuracy: 0.7242\n",
            "Epoch 125/200\n",
            "67/67 [==============================] - 2s 31ms/step - loss: 0.5904 - accuracy: 0.7261 - val_loss: 0.5908 - val_accuracy: 0.7199\n",
            "Epoch 126/200\n",
            "67/67 [==============================] - 2s 31ms/step - loss: 0.5869 - accuracy: 0.7277 - val_loss: 0.5862 - val_accuracy: 0.7229\n",
            "Epoch 127/200\n",
            "67/67 [==============================] - 2s 30ms/step - loss: 0.5886 - accuracy: 0.7268 - val_loss: 0.5910 - val_accuracy: 0.7130\n",
            "Epoch 128/200\n",
            "67/67 [==============================] - 2s 31ms/step - loss: 0.5853 - accuracy: 0.7263 - val_loss: 0.5940 - val_accuracy: 0.7155\n",
            "Epoch 129/200\n",
            "67/67 [==============================] - 2s 31ms/step - loss: 0.5918 - accuracy: 0.7307 - val_loss: 0.5971 - val_accuracy: 0.7303\n",
            "Epoch 130/200\n",
            "67/67 [==============================] - 2s 30ms/step - loss: 0.5940 - accuracy: 0.7244 - val_loss: 0.5901 - val_accuracy: 0.7346\n",
            "Epoch 131/200\n",
            "67/67 [==============================] - 2s 30ms/step - loss: 0.5876 - accuracy: 0.7296 - val_loss: 0.5885 - val_accuracy: 0.7286\n",
            "Epoch 132/200\n",
            "67/67 [==============================] - 2s 31ms/step - loss: 0.5840 - accuracy: 0.7220 - val_loss: 0.5851 - val_accuracy: 0.7221\n",
            "Epoch 133/200\n",
            "67/67 [==============================] - 2s 31ms/step - loss: 0.5887 - accuracy: 0.7190 - val_loss: 0.5948 - val_accuracy: 0.7133\n",
            "Epoch 134/200\n",
            "67/67 [==============================] - 2s 31ms/step - loss: 0.5865 - accuracy: 0.7299 - val_loss: 0.5909 - val_accuracy: 0.7207\n",
            "Epoch 135/200\n",
            "67/67 [==============================] - 2s 30ms/step - loss: 0.5887 - accuracy: 0.7248 - val_loss: 0.5946 - val_accuracy: 0.7248\n",
            "Epoch 136/200\n",
            "67/67 [==============================] - 2s 29ms/step - loss: 0.5910 - accuracy: 0.7288 - val_loss: 0.5952 - val_accuracy: 0.7289\n",
            "Epoch 137/200\n",
            "67/67 [==============================] - 2s 29ms/step - loss: 0.5916 - accuracy: 0.7263 - val_loss: 0.5963 - val_accuracy: 0.7253\n",
            "Epoch 138/200\n",
            "67/67 [==============================] - 2s 30ms/step - loss: 0.5920 - accuracy: 0.7257 - val_loss: 0.5876 - val_accuracy: 0.7201\n",
            "Epoch 139/200\n",
            "67/67 [==============================] - 2s 30ms/step - loss: 0.5847 - accuracy: 0.7257 - val_loss: 0.5816 - val_accuracy: 0.7270\n",
            "Epoch 140/200\n",
            "67/67 [==============================] - 2s 30ms/step - loss: 0.5887 - accuracy: 0.7279 - val_loss: 0.5895 - val_accuracy: 0.7349\n",
            "Epoch 141/200\n",
            "67/67 [==============================] - 2s 30ms/step - loss: 0.5917 - accuracy: 0.7281 - val_loss: 0.5963 - val_accuracy: 0.7335\n",
            "Epoch 142/200\n",
            "67/67 [==============================] - 2s 30ms/step - loss: 0.5901 - accuracy: 0.7313 - val_loss: 0.5906 - val_accuracy: 0.7267\n",
            "Epoch 143/200\n",
            "67/67 [==============================] - 2s 30ms/step - loss: 0.5924 - accuracy: 0.7109 - val_loss: 0.5870 - val_accuracy: 0.7180\n",
            "Epoch 144/200\n",
            "67/67 [==============================] - 2s 30ms/step - loss: 0.5814 - accuracy: 0.7318 - val_loss: 0.5882 - val_accuracy: 0.7207\n",
            "Epoch 145/200\n",
            "67/67 [==============================] - 2s 30ms/step - loss: 0.5889 - accuracy: 0.7273 - val_loss: 0.5868 - val_accuracy: 0.7256\n",
            "Epoch 146/200\n",
            "67/67 [==============================] - 2s 30ms/step - loss: 0.5821 - accuracy: 0.7273 - val_loss: 0.5806 - val_accuracy: 0.7245\n",
            "Epoch 147/200\n",
            "67/67 [==============================] - 2s 30ms/step - loss: 0.5756 - accuracy: 0.7289 - val_loss: 0.5734 - val_accuracy: 0.7174\n",
            "Epoch 148/200\n",
            "67/67 [==============================] - 2s 30ms/step - loss: 0.5692 - accuracy: 0.7295 - val_loss: 0.5784 - val_accuracy: 0.7330\n",
            "Epoch 149/200\n",
            "67/67 [==============================] - 2s 30ms/step - loss: 0.5775 - accuracy: 0.7336 - val_loss: 0.5746 - val_accuracy: 0.7387\n",
            "Epoch 150/200\n",
            "67/67 [==============================] - 2s 30ms/step - loss: 0.5685 - accuracy: 0.7378 - val_loss: 0.5730 - val_accuracy: 0.7286\n",
            "Epoch 151/200\n",
            "67/67 [==============================] - 2s 29ms/step - loss: 0.5797 - accuracy: 0.7285 - val_loss: 0.5963 - val_accuracy: 0.7174\n",
            "Epoch 152/200\n",
            "67/67 [==============================] - 2s 29ms/step - loss: 0.5833 - accuracy: 0.7337 - val_loss: 0.5821 - val_accuracy: 0.7305\n",
            "Epoch 153/200\n",
            "67/67 [==============================] - 2s 30ms/step - loss: 0.5795 - accuracy: 0.7313 - val_loss: 0.5854 - val_accuracy: 0.7313\n",
            "Epoch 154/200\n",
            "67/67 [==============================] - 2s 30ms/step - loss: 0.5841 - accuracy: 0.7323 - val_loss: 0.5860 - val_accuracy: 0.7242\n",
            "Epoch 155/200\n",
            "67/67 [==============================] - 2s 30ms/step - loss: 0.5804 - accuracy: 0.7334 - val_loss: 0.5870 - val_accuracy: 0.7286\n",
            "Epoch 156/200\n",
            "67/67 [==============================] - 2s 30ms/step - loss: 0.5838 - accuracy: 0.7267 - val_loss: 0.5808 - val_accuracy: 0.7264\n",
            "Epoch 157/200\n",
            "67/67 [==============================] - 2s 30ms/step - loss: 0.5759 - accuracy: 0.7326 - val_loss: 0.5773 - val_accuracy: 0.7327\n",
            "Epoch 158/200\n",
            "67/67 [==============================] - 2s 30ms/step - loss: 0.5808 - accuracy: 0.7280 - val_loss: 0.5847 - val_accuracy: 0.7248\n",
            "Epoch 159/200\n",
            "67/67 [==============================] - 2s 30ms/step - loss: 0.5747 - accuracy: 0.7286 - val_loss: 0.5752 - val_accuracy: 0.7292\n",
            "Epoch 160/200\n",
            "67/67 [==============================] - 2s 30ms/step - loss: 0.5703 - accuracy: 0.7323 - val_loss: 0.5710 - val_accuracy: 0.7248\n",
            "Epoch 161/200\n",
            "67/67 [==============================] - 2s 30ms/step - loss: 0.5717 - accuracy: 0.7266 - val_loss: 0.5800 - val_accuracy: 0.7204\n",
            "Epoch 162/200\n",
            "67/67 [==============================] - 2s 30ms/step - loss: 0.5726 - accuracy: 0.7387 - val_loss: 0.5715 - val_accuracy: 0.7300\n",
            "Epoch 163/200\n",
            "67/67 [==============================] - 2s 30ms/step - loss: 0.5669 - accuracy: 0.7394 - val_loss: 0.5663 - val_accuracy: 0.7346\n",
            "Epoch 164/200\n",
            "67/67 [==============================] - 2s 30ms/step - loss: 0.5654 - accuracy: 0.7374 - val_loss: 0.5678 - val_accuracy: 0.7341\n",
            "Epoch 165/200\n",
            "67/67 [==============================] - 2s 30ms/step - loss: 0.5671 - accuracy: 0.7345 - val_loss: 0.5714 - val_accuracy: 0.7374\n",
            "Epoch 166/200\n",
            "67/67 [==============================] - 2s 31ms/step - loss: 0.5782 - accuracy: 0.7318 - val_loss: 0.5805 - val_accuracy: 0.7374\n",
            "Epoch 167/200\n",
            "67/67 [==============================] - 2s 30ms/step - loss: 0.5761 - accuracy: 0.7389 - val_loss: 0.5741 - val_accuracy: 0.7286\n",
            "Epoch 168/200\n",
            "67/67 [==============================] - 2s 30ms/step - loss: 0.5716 - accuracy: 0.7419 - val_loss: 0.5765 - val_accuracy: 0.7259\n",
            "Epoch 169/200\n",
            "67/67 [==============================] - 2s 31ms/step - loss: 0.5717 - accuracy: 0.7325 - val_loss: 0.5640 - val_accuracy: 0.7363\n",
            "Epoch 170/200\n",
            "67/67 [==============================] - 2s 30ms/step - loss: 0.5617 - accuracy: 0.7407 - val_loss: 0.5672 - val_accuracy: 0.7335\n",
            "Epoch 171/200\n",
            "67/67 [==============================] - 2s 31ms/step - loss: 0.5567 - accuracy: 0.7416 - val_loss: 0.5617 - val_accuracy: 0.7363\n",
            "Epoch 172/200\n",
            "67/67 [==============================] - 2s 30ms/step - loss: 0.5655 - accuracy: 0.7391 - val_loss: 0.5736 - val_accuracy: 0.7404\n",
            "Epoch 173/200\n",
            "67/67 [==============================] - 2s 30ms/step - loss: 0.5661 - accuracy: 0.7394 - val_loss: 0.5670 - val_accuracy: 0.7395\n",
            "Epoch 174/200\n",
            "67/67 [==============================] - 2s 30ms/step - loss: 0.5595 - accuracy: 0.7378 - val_loss: 0.5703 - val_accuracy: 0.7275\n",
            "Epoch 175/200\n",
            "67/67 [==============================] - 2s 29ms/step - loss: 0.5637 - accuracy: 0.7362 - val_loss: 0.5643 - val_accuracy: 0.7346\n",
            "Epoch 176/200\n",
            "67/67 [==============================] - 2s 30ms/step - loss: 0.5610 - accuracy: 0.7385 - val_loss: 0.5697 - val_accuracy: 0.7251\n",
            "Epoch 177/200\n",
            "67/67 [==============================] - 2s 30ms/step - loss: 0.5613 - accuracy: 0.7414 - val_loss: 0.5614 - val_accuracy: 0.7344\n",
            "Epoch 178/200\n",
            "67/67 [==============================] - 2s 31ms/step - loss: 0.5544 - accuracy: 0.7423 - val_loss: 0.5572 - val_accuracy: 0.7333\n",
            "Epoch 179/200\n",
            "67/67 [==============================] - 2s 29ms/step - loss: 0.5527 - accuracy: 0.7403 - val_loss: 0.5609 - val_accuracy: 0.7324\n",
            "Epoch 180/200\n",
            "67/67 [==============================] - 2s 30ms/step - loss: 0.5601 - accuracy: 0.7388 - val_loss: 0.5663 - val_accuracy: 0.7330\n",
            "Epoch 181/200\n",
            "67/67 [==============================] - 2s 30ms/step - loss: 0.5617 - accuracy: 0.7402 - val_loss: 0.5698 - val_accuracy: 0.7393\n",
            "Epoch 182/200\n",
            "67/67 [==============================] - 2s 31ms/step - loss: 0.5659 - accuracy: 0.7366 - val_loss: 0.5593 - val_accuracy: 0.7303\n",
            "Epoch 183/200\n",
            "67/67 [==============================] - 2s 31ms/step - loss: 0.5565 - accuracy: 0.7380 - val_loss: 0.5622 - val_accuracy: 0.7308\n",
            "Epoch 184/200\n",
            "67/67 [==============================] - 2s 30ms/step - loss: 0.5525 - accuracy: 0.7393 - val_loss: 0.5590 - val_accuracy: 0.7379\n",
            "Epoch 185/200\n",
            "67/67 [==============================] - 2s 31ms/step - loss: 0.5555 - accuracy: 0.7464 - val_loss: 0.5696 - val_accuracy: 0.7354\n",
            "Epoch 186/200\n",
            "67/67 [==============================] - 2s 30ms/step - loss: 0.5627 - accuracy: 0.7350 - val_loss: 0.5582 - val_accuracy: 0.7346\n",
            "Epoch 187/200\n",
            "67/67 [==============================] - 2s 31ms/step - loss: 0.5596 - accuracy: 0.7369 - val_loss: 0.5702 - val_accuracy: 0.7338\n",
            "Epoch 188/200\n",
            "67/67 [==============================] - 2s 30ms/step - loss: 0.5634 - accuracy: 0.7281 - val_loss: 0.5592 - val_accuracy: 0.7324\n",
            "Epoch 189/200\n",
            "67/67 [==============================] - 2s 31ms/step - loss: 0.5565 - accuracy: 0.7395 - val_loss: 0.5792 - val_accuracy: 0.7204\n",
            "Epoch 190/200\n",
            "67/67 [==============================] - 2s 31ms/step - loss: 0.5760 - accuracy: 0.7247 - val_loss: 0.5735 - val_accuracy: 0.7248\n",
            "Epoch 191/200\n",
            "67/67 [==============================] - 2s 31ms/step - loss: 0.5709 - accuracy: 0.7377 - val_loss: 0.5733 - val_accuracy: 0.7270\n",
            "Epoch 192/200\n",
            "67/67 [==============================] - 2s 31ms/step - loss: 0.5607 - accuracy: 0.7374 - val_loss: 0.5587 - val_accuracy: 0.7333\n",
            "Epoch 193/200\n",
            "67/67 [==============================] - 2s 30ms/step - loss: 0.5582 - accuracy: 0.7374 - val_loss: 0.5708 - val_accuracy: 0.7300\n",
            "Epoch 194/200\n",
            "67/67 [==============================] - 2s 31ms/step - loss: 0.5681 - accuracy: 0.7332 - val_loss: 0.5687 - val_accuracy: 0.7286\n",
            "Epoch 195/200\n",
            "67/67 [==============================] - 2s 30ms/step - loss: 0.5616 - accuracy: 0.7345 - val_loss: 0.5609 - val_accuracy: 0.7374\n",
            "Epoch 196/200\n",
            "67/67 [==============================] - 2s 31ms/step - loss: 0.5508 - accuracy: 0.7409 - val_loss: 0.5566 - val_accuracy: 0.7286\n",
            "Epoch 197/200\n",
            "67/67 [==============================] - 2s 30ms/step - loss: 0.5552 - accuracy: 0.7383 - val_loss: 0.5635 - val_accuracy: 0.7262\n",
            "Epoch 198/200\n",
            "67/67 [==============================] - 2s 30ms/step - loss: 0.5704 - accuracy: 0.7299 - val_loss: 0.5774 - val_accuracy: 0.7281\n",
            "Epoch 200/200\n",
            "67/67 [==============================] - 2s 30ms/step - loss: 0.5653 - accuracy: 0.7388 - val_loss: 0.5653 - val_accuracy: 0.7374\n"
          ],
          "name": "stdout"
        }
      ]
    },
    {
      "cell_type": "code",
      "metadata": {
        "id": "a7xJUr25v5s1",
        "colab_type": "code",
        "colab": {
          "base_uri": "https://localhost:8080/",
          "height": 35
        },
        "outputId": "999ce3ca-0dfd-4009-e821-a9f1351a04fc"
      },
      "source": [
        "# Accuracy on Training set\n",
        "from sklearn.metrics import accuracy_score\n",
        "print('Accuracy on Training set:', accuracy_score(y_train, model.predict_classes(X_train)[:,0]), '%')"
      ],
      "execution_count": null,
      "outputs": [
        {
          "output_type": "stream",
          "text": [
            "Accuracy on Training set: 0.7396040763734333 %\n"
          ],
          "name": "stdout"
        }
      ]
    },
    {
      "cell_type": "code",
      "metadata": {
        "id": "OQiQXkgRus37",
        "colab_type": "code",
        "colab": {
          "base_uri": "https://localhost:8080/",
          "height": 35
        },
        "outputId": "e8391171-befc-41c8-d34e-35cde074586e"
      },
      "source": [
        "# Accuracy on validation set\n",
        "from sklearn.metrics import accuracy_score\n",
        "print('Accuracy on validation set:', accuracy_score(y_valid, model.predict_classes(X_valid)[:,0]), '%')"
      ],
      "execution_count": null,
      "outputs": [
        {
          "output_type": "stream",
          "text": [
            "Accuracy on validation set: 0.7373599344083083 %\n"
          ],
          "name": "stdout"
        }
      ]
    },
    {
      "cell_type": "code",
      "metadata": {
        "id": "MNFJau05u1vm",
        "colab_type": "code",
        "colab": {
          "base_uri": "https://localhost:8080/",
          "height": 295
        },
        "outputId": "5554b831-25c0-4c3e-bf0e-dc0e211eb396"
      },
      "source": [
        "# Summarize history for loss\n",
        "plt.plot(model_history.history['loss'])\n",
        "plt.plot(model_history.history['val_loss'])\n",
        "plt.title('model loss')\n",
        "plt.ylabel('loss')\n",
        "plt.xlabel('epoch')\n",
        "plt.legend(['train', 'validation'], loc = 'upper left')\n",
        "plt.show()"
      ],
      "execution_count": null,
      "outputs": [
        {
          "output_type": "display_data",
          "data": {
            "image/png": "[encoded data removed]",
            "text/plain": [
              "<Figure size 432x288 with 1 Axes>"
            ]
          },
          "metadata": {
            "tags": [],
            "needs_background": "light"
          }
        }
      ]
    },
    {
      "cell_type": "code",
      "metadata": {
        "id": "7g_nLQJ4u8MQ",
        "colab_type": "code",
        "colab": {
          "base_uri": "https://localhost:8080/",
          "height": 295
        },
        "outputId": "ae1614fb-9437-4d53-9f08-9cbdd7893341"
      },
      "source": [
        "# Summarize history for accuracy\n",
        "plt.plot(model_history.history['accuracy'])\n",
        "plt.plot(model_history.history['val_accuracy'])\n",
        "plt.title('model accuracy')\n",
        "plt.ylabel('accuracy')\n",
        "plt.xlabel('epoch')\n",
        "plt.legend(['train', 'validation'], loc = 'upper left')\n",
        "plt.show()"
      ],
      "execution_count": null,
      "outputs": [
        {
          "output_type": "display_data",
          "data": {
            "image/png": "[encoded data removed]",
            "text/plain": [
              "<Figure size 432x288 with 1 Axes>"
            ]
          },
          "metadata": {
            "tags": [],
            "needs_background": "light"
          }
        }
      ]
    }
  ]
}