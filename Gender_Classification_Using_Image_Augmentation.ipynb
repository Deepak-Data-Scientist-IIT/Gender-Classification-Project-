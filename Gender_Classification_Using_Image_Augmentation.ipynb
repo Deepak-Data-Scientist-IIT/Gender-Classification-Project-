{
  "nbformat": 4,
  "nbformat_minor": 0,
  "metadata": {
    "colab": {
      "name": "Gender Classification Using Image_Augmentation.ipynb",
      "provenance": [],
      "toc_visible": true,
      "authorship_tag": "ABX9TyN895x6QnqnO5sWnEmwpY6W",
      "include_colab_link": true
    },
    "kernelspec": {
      "name": "python3",
      "display_name": "Python 3"
    },
    "accelerator": "GPU"
  },
  "cells": [
    {
      "cell_type": "markdown",
      "metadata": {
        "id": "view-in-github",
        "colab_type": "text"
      },
      "source": [
        "<a href=\"https://colab.research.google.com/github/Deepak-Data-Scientist-IIT/Gender-Classification-Project-/blob/master/Gender_Classification_Using_Image_Augmentation.ipynb\" target=\"_parent\"><img src=\"https://colab.research.google.com/assets/colab-badge.svg\" alt=\"Open In Colab\"/></a>"
      ]
    },
    {
      "cell_type": "markdown",
      "metadata": {
        "id": "zh9JfBW-h4kd",
        "colab_type": "text"
      },
      "source": [
        "# **Loading DataSet**"
      ]
    },
    {
      "cell_type": "code",
      "metadata": {
        "id": "SKhOshU5h7eX",
        "colab_type": "code",
        "colab": {}
      },
      "source": [
        "# importing the libraries\n",
        "import pandas as pd\n",
        "import numpy as np\n",
        "from skimage.io import imread\n",
        "from tqdm import tqdm\n",
        "import matplotlib.pyplot as plt\n",
        "%matplotlib inline\n",
        "\n",
        "from sklearn.model_selection import train_test_split\n",
        "from sklearn.metrics import accuracy_score\n",
        "\n",
        "# libraries for performing image augmentation tasks\n",
        "from skimage.transform import rotate\n",
        "from skimage.util import random_noise\n",
        "from skimage.filters import gaussian\n",
        "from skimage.transform import AffineTransform, warp"
      ],
      "execution_count": null,
      "outputs": []
    },
    {
      "cell_type": "code",
      "metadata": {
        "id": "gIN_LxSMiCqW",
        "colab_type": "code",
        "colab": {
          "base_uri": "https://localhost:8080/",
          "height": 35
        },
        "outputId": "eb3a2722-b632-4ce3-eb49-1f4a841c3ddd"
      },
      "source": [
        "from google.colab import drive\n",
        "drive.mount('/content/drive')"
      ],
      "execution_count": null,
      "outputs": [
        {
          "output_type": "stream",
          "text": [
            "Drive already mounted at /content/drive; to attempt to forcibly remount, call drive.mount(\"/content/drive\", force_remount=True).\n"
          ],
          "name": "stdout"
        }
      ]
    },
    {
      "cell_type": "code",
      "metadata": {
        "id": "ftJoQMEWiOBg",
        "colab_type": "code",
        "colab": {}
      },
      "source": [
        "!unzip -uq \"drive/My Drive/train_n.zip\""
      ],
      "execution_count": null,
      "outputs": []
    },
    {
      "cell_type": "code",
      "metadata": {
        "id": "7RqNEJXJiV50",
        "colab_type": "code",
        "colab": {}
      },
      "source": [
        "# read the data\n",
        "data = pd.read_csv(\"train.csv\")"
      ],
      "execution_count": null,
      "outputs": []
    },
    {
      "cell_type": "code",
      "metadata": {
        "id": "Ur5gj6lziZhv",
        "colab_type": "code",
        "colab": {}
      },
      "source": [
        "# Create random number generator\n",
        "seed = 42"
      ],
      "execution_count": null,
      "outputs": []
    },
    {
      "cell_type": "code",
      "metadata": {
        "id": "D1vAnMxjiarp",
        "colab_type": "code",
        "colab": {
          "base_uri": "https://localhost:8080/",
          "height": 200
        },
        "outputId": "61ae385a-5c3a-4abe-9f7f-b10451a3a48d"
      },
      "source": [
        "data.head()"
      ],
      "execution_count": null,
      "outputs": [
        {
          "output_type": "execute_result",
          "data": {
            "text/html": [
              "<div>\n",
              "<style scoped>\n",
              "    .dataframe tbody tr th:only-of-type {\n",
              "        vertical-align: middle;\n",
              "    }\n",
              "\n",
              "    .dataframe tbody tr th {\n",
              "        vertical-align: top;\n",
              "    }\n",
              "\n",
              "    .dataframe thead th {\n",
              "        text-align: right;\n",
              "    }\n",
              "</style>\n",
              "<table border=\"1\" class=\"dataframe\">\n",
              "  <thead>\n",
              "    <tr style=\"text-align: right;\">\n",
              "      <th></th>\n",
              "      <th>image_names</th>\n",
              "      <th>class</th>\n",
              "    </tr>\n",
              "  </thead>\n",
              "  <tbody>\n",
              "    <tr>\n",
              "      <th>0</th>\n",
              "      <td>11413.jpg</td>\n",
              "      <td>1</td>\n",
              "    </tr>\n",
              "    <tr>\n",
              "      <th>1</th>\n",
              "      <td>9863.jpg</td>\n",
              "      <td>1</td>\n",
              "    </tr>\n",
              "    <tr>\n",
              "      <th>2</th>\n",
              "      <td>997.jpg</td>\n",
              "      <td>0</td>\n",
              "    </tr>\n",
              "    <tr>\n",
              "      <th>3</th>\n",
              "      <td>5950.jpg</td>\n",
              "      <td>0</td>\n",
              "    </tr>\n",
              "    <tr>\n",
              "      <th>4</th>\n",
              "      <td>10454.jpg</td>\n",
              "      <td>1</td>\n",
              "    </tr>\n",
              "  </tbody>\n",
              "</table>\n",
              "</div>"
            ],
            "text/plain": [
              "  image_names  class\n",
              "0   11413.jpg      1\n",
              "1    9863.jpg      1\n",
              "2     997.jpg      0\n",
              "3    5950.jpg      0\n",
              "4   10454.jpg      1"
            ]
          },
          "metadata": {
            "tags": []
          },
          "execution_count": 6
        }
      ]
    },
    {
      "cell_type": "code",
      "metadata": {
        "id": "HOeVwRoGiexM",
        "colab_type": "code",
        "colab": {
          "base_uri": "https://localhost:8080/",
          "height": 70
        },
        "outputId": "b68338ed-8fd6-461d-e239-505dbfe72d25"
      },
      "source": [
        "# Distribution of classes in the dataset\n",
        "data['class'].value_counts()"
      ],
      "execution_count": null,
      "outputs": [
        {
          "output_type": "execute_result",
          "data": {
            "text/plain": [
              "1    6174\n",
              "0    6022\n",
              "Name: class, dtype: int64"
            ]
          },
          "metadata": {
            "tags": []
          },
          "execution_count": 28
        }
      ]
    },
    {
      "cell_type": "code",
      "metadata": {
        "id": "dTWMFgyMir0E",
        "colab_type": "code",
        "colab": {}
      },
      "source": [
        "# load images and store it in numpy array\n",
        "\n",
        "from numpy import asarray\n",
        "from PIL import Image\n",
        "from keras.preprocessing import image\n",
        "\n",
        "X = []\n",
        "for img in data.image_names:\n",
        "    img = image.load_img('images/' + img, target_size=(50, 50, 3))\n",
        "    img = image.img_to_array(img)\n",
        "    X.append(img)\n",
        "    \n",
        "X=np.array(X)\n",
        "\n",
        "# Storing the target variable in saperate variable\n",
        "y = data['class'].values\n"
      ],
      "execution_count": null,
      "outputs": []
    },
    {
      "cell_type": "code",
      "metadata": {
        "id": "EPpTcpkBjBu2",
        "colab_type": "code",
        "colab": {
          "base_uri": "https://localhost:8080/",
          "height": 35
        },
        "outputId": "f144c08e-aa03-4561-86f3-b3949f6100e2"
      },
      "source": [
        "# shape of the image\n",
        "X.shape, y.shape"
      ],
      "execution_count": null,
      "outputs": [
        {
          "output_type": "execute_result",
          "data": {
            "text/plain": [
              "((12196, 50, 50, 3), (12196,))"
            ]
          },
          "metadata": {
            "tags": []
          },
          "execution_count": 8
        }
      ]
    },
    {
      "cell_type": "code",
      "metadata": {
        "id": "GBGc6X_LmUiZ",
        "colab_type": "code",
        "colab": {
          "base_uri": "https://localhost:8080/",
          "height": 35
        },
        "outputId": "c7ab7fd9-81af-4778-fad7-e3f845f93ed4"
      },
      "source": [
        "# Minimum and maximum pixel value of images\n",
        "X.min(), X.max()"
      ],
      "execution_count": null,
      "outputs": [
        {
          "output_type": "execute_result",
          "data": {
            "text/plain": [
              "(0.0, 255.0)"
            ]
          },
          "metadata": {
            "tags": []
          },
          "execution_count": 9
        }
      ]
    },
    {
      "cell_type": "code",
      "metadata": {
        "id": "BbsbcWDCVJiM",
        "colab_type": "code",
        "colab": {}
      },
      "source": [
        "X = X/255.0"
      ],
      "execution_count": null,
      "outputs": []
    },
    {
      "cell_type": "code",
      "metadata": {
        "id": "_t0W0eOHVOrH",
        "colab_type": "code",
        "colab": {
          "base_uri": "https://localhost:8080/",
          "height": 35
        },
        "outputId": "1dcdc7e0-9215-44b9-d349-8b9d0eb9a582"
      },
      "source": [
        "X.min(), X.max()"
      ],
      "execution_count": null,
      "outputs": [
        {
          "output_type": "execute_result",
          "data": {
            "text/plain": [
              "(0.0, 1.0)"
            ]
          },
          "metadata": {
            "tags": []
          },
          "execution_count": 11
        }
      ]
    },
    {
      "cell_type": "markdown",
      "metadata": {
        "id": "JO3n5-svm4Ny",
        "colab_type": "text"
      },
      "source": [
        "# **Creating training and validation set**"
      ]
    },
    {
      "cell_type": "code",
      "metadata": {
        "id": "Vu3v12eym6kb",
        "colab_type": "code",
        "colab": {}
      },
      "source": [
        "# creating a training and validation set\n",
        "X_train, X_valid, y_train, y_valid=train_test_split(X,y,test_size=0.3, random_state=seed)"
      ],
      "execution_count": null,
      "outputs": []
    },
    {
      "cell_type": "code",
      "metadata": {
        "id": "W8uXlqAtVrDk",
        "colab_type": "code",
        "colab": {
          "base_uri": "https://localhost:8080/",
          "height": 35
        },
        "outputId": "445f952b-75e6-47fc-cd05-ea37bf048744"
      },
      "source": [
        "# shape of training and validation set\n",
        "(X_train.shape, y_train.shape), (X_valid.shape, y_valid.shape)"
      ],
      "execution_count": null,
      "outputs": [
        {
          "output_type": "execute_result",
          "data": {
            "text/plain": [
              "(((8537, 50, 50, 3), (8537,)), ((3659, 50, 50, 3), (3659,)))"
            ]
          },
          "metadata": {
            "tags": []
          },
          "execution_count": 13
        }
      ]
    },
    {
      "cell_type": "markdown",
      "metadata": {
        "id": "NrDFqE_9VtwN",
        "colab_type": "text"
      },
      "source": [
        "# **Augmenting Images**"
      ]
    },
    {
      "cell_type": "code",
      "metadata": {
        "id": "w1NS9sWTVyI5",
        "colab_type": "code",
        "colab": {
          "base_uri": "https://localhost:8080/",
          "height": 35
        },
        "outputId": "9b5881dc-18a5-4422-ccc6-60f919194f81"
      },
      "source": [
        "# augmenting the training images\n",
        "final_train_data = []\n",
        "final_target_train = []\n",
        "for i in tqdm(range(X_train.shape[0])):\n",
        "    # original image\n",
        "    final_train_data.append(X_train[i])\n",
        "    # image rotation\n",
        "    final_train_data.append(rotate(X_train[i], angle=30, mode = 'edge'))\n",
        "    # image flipping (left-to-right)    \n",
        "    final_train_data.append(np.fliplr(X_train[i]))\n",
        "    # image flipping (up-down) \n",
        "    final_train_data.append(np.flipud(X_train[i]))\n",
        "    # image noising\n",
        "    final_train_data.append(random_noise(X_train[i],var=0.2))\n",
        "    for j in range(5):\n",
        "        final_target_train.append(y_train[i])"
      ],
      "execution_count": null,
      "outputs": [
        {
          "output_type": "stream",
          "text": [
            "100%|██████████| 8537/8537 [00:07<00:00, 1121.43it/s]\n"
          ],
          "name": "stderr"
        }
      ]
    },
    {
      "cell_type": "code",
      "metadata": {
        "id": "p_5vIkcrXNdn",
        "colab_type": "code",
        "colab": {}
      },
      "source": [
        "# converting images and target to array\n",
        "final_train = np.array(final_train_data)\n",
        "final_target_train = np.array(final_target_train)"
      ],
      "execution_count": null,
      "outputs": []
    },
    {
      "cell_type": "code",
      "metadata": {
        "id": "jR-LIbJmYFKe",
        "colab_type": "code",
        "colab": {
          "base_uri": "https://localhost:8080/",
          "height": 35
        },
        "outputId": "6e8edc9e-3915-4229-a014-150f96a52fa3"
      },
      "source": [
        "# shape of new training set\n",
        "final_train.shape, final_target_train.shape "
      ],
      "execution_count": null,
      "outputs": [
        {
          "output_type": "execute_result",
          "data": {
            "text/plain": [
              "((42685, 50, 50, 3), (42685,))"
            ]
          },
          "metadata": {
            "tags": []
          },
          "execution_count": 16
        }
      ]
    },
    {
      "cell_type": "code",
      "metadata": {
        "id": "48GGEuf5YQy4",
        "colab_type": "code",
        "colab": {
          "base_uri": "https://localhost:8080/",
          "height": 35
        },
        "outputId": "c4e40be3-00fd-4d82-eed7-b00f9b99ef82"
      },
      "source": [
        "# converting 3 dimensional image to 1 dimensional image\n",
        "final_train = final_train.reshape(final_train.shape[0], 50*50*3)\n",
        "final_train.shape"
      ],
      "execution_count": null,
      "outputs": [
        {
          "output_type": "execute_result",
          "data": {
            "text/plain": [
              "(42685, 7500)"
            ]
          },
          "metadata": {
            "tags": []
          },
          "execution_count": 18
        }
      ]
    },
    {
      "cell_type": "code",
      "metadata": {
        "id": "tVNrkG4WYZsb",
        "colab_type": "code",
        "colab": {
          "base_uri": "https://localhost:8080/",
          "height": 35
        },
        "outputId": "e065ce48-2649-4c6d-a7b8-69afd6eb9fdf"
      },
      "source": [
        "# minimum and maximum pixel values of training images\n",
        "final_train.min(), final_train.max()"
      ],
      "execution_count": null,
      "outputs": [
        {
          "output_type": "execute_result",
          "data": {
            "text/plain": [
              "(0.0, 1.0)"
            ]
          },
          "metadata": {
            "tags": []
          },
          "execution_count": 19
        }
      ]
    },
    {
      "cell_type": "code",
      "metadata": {
        "id": "jl87UxdZYfc3",
        "colab_type": "code",
        "colab": {
          "base_uri": "https://localhost:8080/",
          "height": 35
        },
        "outputId": "fbd5b243-6a09-42ba-df18-2b15dd3825a3"
      },
      "source": [
        "# converting 3 dimensional validation image to 1 dimensional image\n",
        "final_valid = X_valid.reshape(X_valid.shape[0], 50*50*3)\n",
        "final_valid.shape"
      ],
      "execution_count": null,
      "outputs": [
        {
          "output_type": "execute_result",
          "data": {
            "text/plain": [
              "(3659, 7500)"
            ]
          },
          "metadata": {
            "tags": []
          },
          "execution_count": 20
        }
      ]
    },
    {
      "cell_type": "code",
      "metadata": {
        "id": "CCAsCIlqYjlN",
        "colab_type": "code",
        "colab": {
          "base_uri": "https://localhost:8080/",
          "height": 35
        },
        "outputId": "625f792f-e9bd-48e7-b6ac-2a8769c80101"
      },
      "source": [
        "# minimum and maximum pixel values of validation images\n",
        "final_valid.min(), final_valid.max()"
      ],
      "execution_count": null,
      "outputs": [
        {
          "output_type": "execute_result",
          "data": {
            "text/plain": [
              "(0.0, 1.0)"
            ]
          },
          "metadata": {
            "tags": []
          },
          "execution_count": 21
        }
      ]
    },
    {
      "cell_type": "markdown",
      "metadata": {
        "id": "-JZgqdlaYrjr",
        "colab_type": "text"
      },
      "source": [
        "# **Defining the model architecture**"
      ]
    },
    {
      "cell_type": "code",
      "metadata": {
        "id": "UR2yqlkQYuMZ",
        "colab_type": "code",
        "colab": {}
      },
      "source": [
        "# importing functions from keras to define the neural network architecture\n",
        "from keras.layers import Dense, InputLayer, Dropout, BatchNormalization\n",
        "from keras.models import Sequential\n",
        "# importing adam optimizer from keras optimizer module \n",
        "from keras.optimizers import Adam"
      ],
      "execution_count": null,
      "outputs": []
    },
    {
      "cell_type": "code",
      "metadata": {
        "id": "eiwV85zNYxOy",
        "colab_type": "code",
        "colab": {}
      },
      "source": [
        "# defining the adam optimizer and setting the learning rate as 10^-5\n",
        "adam = Adam(lr=1e-5)"
      ],
      "execution_count": null,
      "outputs": []
    },
    {
      "cell_type": "code",
      "metadata": {
        "id": "Hs3r7LwWY4R8",
        "colab_type": "code",
        "colab": {}
      },
      "source": [
        "# defining and compiling the model architecture\n",
        "model=Sequential()\n",
        "\n",
        "model.add(InputLayer(input_shape=(50*50*3,)))\n",
        "model.add(Dense(100, activation='sigmoid'))\n",
        "model.add(BatchNormalization())\n",
        "model.add(Dropout(rate=0.5))\n",
        "model.add(Dense(100, activation='sigmoid'))\n",
        "model.add(BatchNormalization())\n",
        "model.add(Dropout(rate=0.5))\n",
        "model.add(Dense(units=1, activation='sigmoid'))\n",
        "\n",
        "model.compile(loss='binary_crossentropy', optimizer=adam, metrics=['accuracy'])"
      ],
      "execution_count": null,
      "outputs": []
    },
    {
      "cell_type": "code",
      "metadata": {
        "id": "9ir_U9FdZD-v",
        "colab_type": "code",
        "colab": {
          "base_uri": "https://localhost:8080/",
          "height": 408
        },
        "outputId": "6270d52c-3d0a-4c93-fd33-621686f38561"
      },
      "source": [
        "# summary of the model\n",
        "model.summary()"
      ],
      "execution_count": null,
      "outputs": [
        {
          "output_type": "stream",
          "text": [
            "Model: \"sequential_1\"\n",
            "_________________________________________________________________\n",
            "Layer (type)                 Output Shape              Param #   \n",
            "=================================================================\n",
            "dense_3 (Dense)              (None, 100)               750100    \n",
            "_________________________________________________________________\n",
            "batch_normalization_2 (Batch (None, 100)               400       \n",
            "_________________________________________________________________\n",
            "dropout_2 (Dropout)          (None, 100)               0         \n",
            "_________________________________________________________________\n",
            "dense_4 (Dense)              (None, 100)               10100     \n",
            "_________________________________________________________________\n",
            "batch_normalization_3 (Batch (None, 100)               400       \n",
            "_________________________________________________________________\n",
            "dropout_3 (Dropout)          (None, 100)               0         \n",
            "_________________________________________________________________\n",
            "dense_5 (Dense)              (None, 1)                 101       \n",
            "=================================================================\n",
            "Total params: 761,101\n",
            "Trainable params: 760,701\n",
            "Non-trainable params: 400\n",
            "_________________________________________________________________\n"
          ],
          "name": "stdout"
        }
      ]
    },
    {
      "cell_type": "markdown",
      "metadata": {
        "id": "F13BI4owZLwS",
        "colab_type": "text"
      },
      "source": [
        "# **Training the model**"
      ]
    },
    {
      "cell_type": "code",
      "metadata": {
        "id": "yAVyasPZZOBF",
        "colab_type": "code",
        "colab": {
          "base_uri": "https://localhost:8080/",
          "height": 1000
        },
        "outputId": "994a172c-a5f2-4fcb-9950-22a6a4217f68"
      },
      "source": [
        "# training the model\n",
        "model_history = model.fit(final_train, final_target_train, epochs=50, batch_size=128,validation_data=(final_valid,y_valid))"
      ],
      "execution_count": null,
      "outputs": [
        {
          "output_type": "stream",
          "text": [
            "Epoch 1/50\n",
            "334/334 [==============================] - 2s 6ms/step - loss: 0.8698 - accuracy: 0.5932 - val_loss: 0.5872 - val_accuracy: 0.7237\n",
            "Epoch 2/50\n",
            "334/334 [==============================] - 2s 5ms/step - loss: 0.8068 - accuracy: 0.6260 - val_loss: 0.5493 - val_accuracy: 0.7333\n",
            "Epoch 3/50\n",
            "334/334 [==============================] - 2s 5ms/step - loss: 0.7835 - accuracy: 0.6362 - val_loss: 0.5433 - val_accuracy: 0.7415\n",
            "Epoch 4/50\n",
            "334/334 [==============================] - 2s 5ms/step - loss: 0.7603 - accuracy: 0.6437 - val_loss: 0.5314 - val_accuracy: 0.7483\n",
            "Epoch 5/50\n",
            "334/334 [==============================] - 2s 5ms/step - loss: 0.7444 - accuracy: 0.6483 - val_loss: 0.5293 - val_accuracy: 0.7395\n",
            "Epoch 6/50\n",
            "334/334 [==============================] - 2s 5ms/step - loss: 0.7377 - accuracy: 0.6504 - val_loss: 0.5206 - val_accuracy: 0.7450\n",
            "Epoch 7/50\n",
            "334/334 [==============================] - 2s 5ms/step - loss: 0.7198 - accuracy: 0.6585 - val_loss: 0.5173 - val_accuracy: 0.7480\n",
            "Epoch 8/50\n",
            "334/334 [==============================] - 2s 5ms/step - loss: 0.7187 - accuracy: 0.6598 - val_loss: 0.5135 - val_accuracy: 0.7529\n",
            "Epoch 9/50\n",
            "334/334 [==============================] - 2s 5ms/step - loss: 0.7109 - accuracy: 0.6595 - val_loss: 0.5416 - val_accuracy: 0.7453\n",
            "Epoch 10/50\n",
            "334/334 [==============================] - 2s 5ms/step - loss: 0.6977 - accuracy: 0.6641 - val_loss: 0.5151 - val_accuracy: 0.7428\n",
            "Epoch 11/50\n",
            "334/334 [==============================] - 2s 5ms/step - loss: 0.6977 - accuracy: 0.6625 - val_loss: 0.5068 - val_accuracy: 0.7570\n",
            "Epoch 12/50\n",
            "334/334 [==============================] - 2s 5ms/step - loss: 0.6868 - accuracy: 0.6697 - val_loss: 0.5033 - val_accuracy: 0.7551\n",
            "Epoch 13/50\n",
            "334/334 [==============================] - 2s 5ms/step - loss: 0.6818 - accuracy: 0.6714 - val_loss: 0.5089 - val_accuracy: 0.7614\n",
            "Epoch 14/50\n",
            "334/334 [==============================] - 2s 5ms/step - loss: 0.6822 - accuracy: 0.6700 - val_loss: 0.5032 - val_accuracy: 0.7661\n",
            "Epoch 15/50\n",
            "334/334 [==============================] - 2s 5ms/step - loss: 0.6759 - accuracy: 0.6739 - val_loss: 0.4980 - val_accuracy: 0.7603\n",
            "Epoch 16/50\n",
            "334/334 [==============================] - 2s 5ms/step - loss: 0.6670 - accuracy: 0.6743 - val_loss: 0.4972 - val_accuracy: 0.7587\n",
            "Epoch 17/50\n",
            "334/334 [==============================] - 2s 5ms/step - loss: 0.6617 - accuracy: 0.6792 - val_loss: 0.4984 - val_accuracy: 0.7565\n",
            "Epoch 18/50\n",
            "334/334 [==============================] - 2s 5ms/step - loss: 0.6533 - accuracy: 0.6848 - val_loss: 0.5044 - val_accuracy: 0.7521\n",
            "Epoch 19/50\n",
            "334/334 [==============================] - 2s 5ms/step - loss: 0.6495 - accuracy: 0.6857 - val_loss: 0.4942 - val_accuracy: 0.7688\n",
            "Epoch 20/50\n",
            "334/334 [==============================] - 2s 5ms/step - loss: 0.6510 - accuracy: 0.6847 - val_loss: 0.4896 - val_accuracy: 0.7666\n",
            "Epoch 21/50\n",
            "334/334 [==============================] - 2s 5ms/step - loss: 0.6479 - accuracy: 0.6860 - val_loss: 0.4891 - val_accuracy: 0.7674\n",
            "Epoch 22/50\n",
            "334/334 [==============================] - 2s 5ms/step - loss: 0.6426 - accuracy: 0.6901 - val_loss: 0.4895 - val_accuracy: 0.7710\n",
            "Epoch 23/50\n",
            "334/334 [==============================] - 2s 5ms/step - loss: 0.6371 - accuracy: 0.6894 - val_loss: 0.4883 - val_accuracy: 0.7726\n",
            "Epoch 24/50\n",
            "334/334 [==============================] - 2s 5ms/step - loss: 0.6323 - accuracy: 0.6917 - val_loss: 0.4873 - val_accuracy: 0.7721\n",
            "Epoch 25/50\n",
            "334/334 [==============================] - 2s 5ms/step - loss: 0.6323 - accuracy: 0.6888 - val_loss: 0.4898 - val_accuracy: 0.7753\n",
            "Epoch 26/50\n",
            "334/334 [==============================] - 2s 5ms/step - loss: 0.6274 - accuracy: 0.6934 - val_loss: 0.4943 - val_accuracy: 0.7729\n",
            "Epoch 27/50\n",
            "334/334 [==============================] - 2s 5ms/step - loss: 0.6280 - accuracy: 0.6931 - val_loss: 0.4921 - val_accuracy: 0.7751\n",
            "Epoch 28/50\n",
            "334/334 [==============================] - 2s 5ms/step - loss: 0.6174 - accuracy: 0.7023 - val_loss: 0.4826 - val_accuracy: 0.7663\n",
            "Epoch 29/50\n",
            "334/334 [==============================] - 2s 5ms/step - loss: 0.6161 - accuracy: 0.6996 - val_loss: 0.4907 - val_accuracy: 0.7603\n",
            "Epoch 30/50\n",
            "334/334 [==============================] - 2s 5ms/step - loss: 0.6131 - accuracy: 0.7020 - val_loss: 0.4843 - val_accuracy: 0.7740\n",
            "Epoch 31/50\n",
            "334/334 [==============================] - 2s 5ms/step - loss: 0.6116 - accuracy: 0.7027 - val_loss: 0.4806 - val_accuracy: 0.7712\n",
            "Epoch 32/50\n",
            "334/334 [==============================] - 2s 5ms/step - loss: 0.6051 - accuracy: 0.7069 - val_loss: 0.4762 - val_accuracy: 0.7751\n",
            "Epoch 33/50\n",
            "334/334 [==============================] - 2s 5ms/step - loss: 0.6015 - accuracy: 0.7080 - val_loss: 0.4810 - val_accuracy: 0.7669\n",
            "Epoch 34/50\n",
            "334/334 [==============================] - 2s 5ms/step - loss: 0.6002 - accuracy: 0.7091 - val_loss: 0.4769 - val_accuracy: 0.7762\n",
            "Epoch 35/50\n",
            "334/334 [==============================] - 2s 5ms/step - loss: 0.6011 - accuracy: 0.7093 - val_loss: 0.4911 - val_accuracy: 0.7786\n",
            "Epoch 36/50\n",
            "334/334 [==============================] - 2s 5ms/step - loss: 0.5987 - accuracy: 0.7110 - val_loss: 0.4761 - val_accuracy: 0.7792\n",
            "Epoch 37/50\n",
            "334/334 [==============================] - 2s 5ms/step - loss: 0.5930 - accuracy: 0.7114 - val_loss: 0.4740 - val_accuracy: 0.7781\n",
            "Epoch 38/50\n",
            "334/334 [==============================] - 2s 5ms/step - loss: 0.5914 - accuracy: 0.7126 - val_loss: 0.4742 - val_accuracy: 0.7715\n",
            "Epoch 39/50\n",
            "334/334 [==============================] - 2s 5ms/step - loss: 0.5902 - accuracy: 0.7115 - val_loss: 0.4825 - val_accuracy: 0.7800\n",
            "Epoch 40/50\n",
            "334/334 [==============================] - 2s 5ms/step - loss: 0.5899 - accuracy: 0.7137 - val_loss: 0.4750 - val_accuracy: 0.7712\n",
            "Epoch 41/50\n",
            "334/334 [==============================] - 2s 5ms/step - loss: 0.5846 - accuracy: 0.7157 - val_loss: 0.4702 - val_accuracy: 0.7792\n",
            "Epoch 42/50\n",
            "334/334 [==============================] - 2s 5ms/step - loss: 0.5829 - accuracy: 0.7167 - val_loss: 0.4785 - val_accuracy: 0.7808\n",
            "Epoch 43/50\n",
            "334/334 [==============================] - 2s 5ms/step - loss: 0.5779 - accuracy: 0.7174 - val_loss: 0.4723 - val_accuracy: 0.7726\n",
            "Epoch 44/50\n",
            "334/334 [==============================] - 2s 5ms/step - loss: 0.5802 - accuracy: 0.7182 - val_loss: 0.4837 - val_accuracy: 0.7794\n",
            "Epoch 45/50\n",
            "334/334 [==============================] - 2s 5ms/step - loss: 0.5745 - accuracy: 0.7190 - val_loss: 0.4711 - val_accuracy: 0.7827\n",
            "Epoch 46/50\n",
            "334/334 [==============================] - 2s 5ms/step - loss: 0.5715 - accuracy: 0.7242 - val_loss: 0.4658 - val_accuracy: 0.7849\n",
            "Epoch 47/50\n",
            "334/334 [==============================] - 2s 5ms/step - loss: 0.5673 - accuracy: 0.7243 - val_loss: 0.4875 - val_accuracy: 0.7743\n",
            "Epoch 48/50\n",
            "334/334 [==============================] - 2s 5ms/step - loss: 0.5663 - accuracy: 0.7256 - val_loss: 0.4706 - val_accuracy: 0.7751\n",
            "Epoch 49/50\n",
            "334/334 [==============================] - 2s 5ms/step - loss: 0.5651 - accuracy: 0.7234 - val_loss: 0.4701 - val_accuracy: 0.7784\n",
            "Epoch 50/50\n",
            "334/334 [==============================] - 2s 5ms/step - loss: 0.5654 - accuracy: 0.7281 - val_loss: 0.4703 - val_accuracy: 0.7849\n"
          ],
          "name": "stdout"
        }
      ]
    },
    {
      "cell_type": "code",
      "metadata": {
        "id": "DqeHtnJ7ZrF8",
        "colab_type": "code",
        "colab": {
          "base_uri": "https://localhost:8080/",
          "height": 108
        },
        "outputId": "34b5f350-a9ec-4d49-cda2-88063acc425d"
      },
      "source": [
        "# accuracy on validation set\n",
        "print('Accuracy on validation set:', accuracy_score(y_valid, model.predict_classes(final_valid)[:, 0]), '%')"
      ],
      "execution_count": null,
      "outputs": [
        {
          "output_type": "stream",
          "text": [
            "WARNING:tensorflow:From <ipython-input-28-169a551ef165>:2: Sequential.predict_classes (from tensorflow.python.keras.engine.sequential) is deprecated and will be removed after 2021-01-01.\n",
            "Instructions for updating:\n",
            "Please use instead:* `np.argmax(model.predict(x), axis=-1)`,   if your model does multi-class classification   (e.g. if it uses a `softmax` last-layer activation).* `(model.predict(x) > 0.5).astype(\"int32\")`,   if your model does binary classification   (e.g. if it uses a `sigmoid` last-layer activation).\n",
            "Accuracy on validation set: 0.7849139109046187 %\n"
          ],
          "name": "stdout"
        }
      ]
    },
    {
      "cell_type": "code",
      "metadata": {
        "id": "z_SV6iCuZx4v",
        "colab_type": "code",
        "colab": {
          "base_uri": "https://localhost:8080/",
          "height": 295
        },
        "outputId": "cb923bc5-5856-42fe-e7b4-bf5a8f7be8b2"
      },
      "source": [
        "# summarize history for loss\n",
        "plt.plot(model_history.history['loss'])\n",
        "plt.plot(model_history.history['val_loss'])\n",
        "plt.title('model loss')\n",
        "plt.ylabel('loss')\n",
        "plt.xlabel('epoch')\n",
        "plt.legend(['train', 'validation'], loc='upper right')\n",
        "plt.show()"
      ],
      "execution_count": null,
      "outputs": [
        {
          "output_type": "display_data",
          "data": {
            "image/png": "[encoded data removed]",
            "text/plain": [
              "<Figure size 432x288 with 1 Axes>"
            ]
          },
          "metadata": {
            "tags": [],
            "needs_background": "light"
          }
        }
      ]
    },
    {
      "cell_type": "code",
      "metadata": {
        "id": "LccLvJJLZ2TP",
        "colab_type": "code",
        "colab": {
          "base_uri": "https://localhost:8080/",
          "height": 295
        },
        "outputId": "7bbd1ef5-32c4-497b-f7fb-0bf51b7c82d6"
      },
      "source": [
        "# summarize history for accuracy\n",
        "plt.plot(model_history.history['accuracy'])\n",
        "plt.plot(model_history.history['val_accuracy'])\n",
        "plt.title('model accuracy')\n",
        "plt.ylabel('accuracy')\n",
        "plt.xlabel('epoch')\n",
        "plt.legend(['train', 'validation'], loc='upper right')\n",
        "plt.show()"
      ],
      "execution_count": null,
      "outputs": [
        {
          "output_type": "display_data",
          "data": {
            "image/png": "[encoded data removed]",
            "text/plain": [
              "<Figure size 432x288 with 1 Axes>"
            ]
          },
          "metadata": {
            "tags": [],
            "needs_background": "light"
          }
        }
      ]
    }
  ]
}